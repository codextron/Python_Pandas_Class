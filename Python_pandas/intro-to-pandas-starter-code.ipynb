{
 "cells": [
  {
   "cell_type": "markdown",
   "metadata": {
    "id": "mTYawCqHswvy",
    "tags": []
   },
   "source": [
    "![](https://snag.gy/h9Xwf1.jpg)"
   ]
  },
  {
   "cell_type": "markdown",
   "metadata": {
    "id": "q7MFBbTIswvz"
   },
   "source": [
    "### Lesson Guide\n",
    "\n",
    "- What is `pandas`?\n",
    "- Reading data\n",
    "- Exploring data\n",
    "    - Filtering\n",
    "    - Sorting\n",
    "- Split-Apply-Combine\n",
    "- Missing Values"
   ]
  },
  {
   "cell_type": "markdown",
   "metadata": {
    "id": "mYvIKHuGswvz"
   },
   "source": [
    "<a id='introduction'></a>\n",
    "\n",
    "### What is `pandas`?\n",
    "\n",
    "---\n",
    "\n",
    "- Data analysis library - **Panel data system** (doesn't actually have to do with the animal, sorry).\n",
    "- Created by Wes McKinney and Open Sourced by AQR Capital Management, LLC 2009.\n",
    "- Implemented in highly optimized Python/Cython.\n",
    "- Most ubiquitous tool used to start data analysis projects within the Python scientific ecosystem.\n"
   ]
  },
  {
   "cell_type": "markdown",
   "metadata": {
    "id": "Ap8OTieXswv0"
   },
   "source": [
    "### Pandas Use Cases\n",
    "\n",
    "---\n",
    "\n",
    "- Cleaning data / Munging\n",
    "- Exploratory Data Analysis (EDA)\n",
    "- Structuring data for plots or tabular display\n",
    "- Joining disparate sources\n",
    "- Filtering, extracting, or transforming"
   ]
  },
  {
   "cell_type": "markdown",
   "metadata": {
    "id": "KNiLBvUaswv0"
   },
   "source": [
    "## Importing the Dynamic Trio\n",
    "From here on out, we'll begin pretty much all of our notebooks with the following three imports.\n",
    "\n",
    "* **pandas**: The library we'll be using to do pretty much all data manipulation.\n",
    "* **numpy**: The library we'll need to do various other computations. Even if you don't think you'll need it to start, you'll probably end up using it later.\n",
    "* **matplotlib**: The library we'll use most for plotting. More on this another day."
   ]
  },
  {
   "cell_type": "code",
   "execution_count": 33,
   "metadata": {
    "executionInfo": {
     "elapsed": 705,
     "status": "ok",
     "timestamp": 1728973114021,
     "user": {
      "displayName": "Molovi S",
      "userId": "06654259060779244582"
     },
     "user_tz": 420
    },
    "id": "yXU6uo4mswv0"
   },
   "outputs": [],
   "source": [
    "import numpy as np\n",
    "import pandas as pd\n",
    "import matplotlib.pyplot as plt"
   ]
  },
  {
   "cell_type": "code",
   "execution_count": null,
   "metadata": {},
   "outputs": [],
   "source": [
    "# pandas library if you want to know about all the library/modules/functions/classes\n",
    "# https://pandas.pydata.org/docs/index.html\n",
    "#or if you are the go you can view a bit of the documentation like this on jupyter labs (also applies in environments in google colab and spyder):\n",
    "pd."
   ]
  },
  {
   "cell_type": "markdown",
   "metadata": {
    "id": "ZdUPlpmNswv1",
    "nbpresent": {
     "id": "b29851ac-daa2-46fb-90f0-125e0c4683e1"
    },
    "tags": []
   },
   "source": [
    "<a id='loading_csvs'></a>\n",
    "\n",
    "### Loading a csv into a DataFrame\n",
    "\n",
    "---\n",
    "\n",
    "Pandas can load many types of files, but one of the most common filetypes for storing data is in a `.csv` file. Let's load a dataset on UFO sightings from the `./datasets` directory:"
   ]
  },
  {
   "cell_type": "code",
   "execution_count": 39,
   "metadata": {},
   "outputs": [],
   "source": [
    "#-----------------------------\n",
    "#Load in your dataset\n",
    "ufo = pd.read_csv('datasets/ufo.csv')"
   ]
  },
  {
   "cell_type": "markdown",
   "metadata": {
    "id": "lgk3H6x-swv2",
    "nbpresent": {
     "id": "7c254479-e114-4b53-bb64-d9d5783d69ab"
    }
   },
   "source": [
    "This creates a pandas object called a **DataFrame**. These are powerful containers for data with many built-in functions to explore and manipulate data.\n",
    "\n",
    "We will barely scratch the surface of DataFrame functionality in this lesson, but over the course of this class you will become an expert at using them."
   ]
  },
  {
   "cell_type": "markdown",
   "metadata": {
    "id": "hZ6pbP2sswv2",
    "nbpresent": {
     "id": "b44c04a3-0bd8-4961-a930-092e872469d0"
    }
   },
   "source": [
    "<a id='exploring_data'></a>\n",
    "\n",
    "## Exploratory Data Analysis (EDA) with Python!\n",
    "\n",
    "---\n",
    "\n",
    "DataFrames come with built-in functionality that makes data exploration easy.\n",
    "\n",
    "Let's start by looking at the \"head\" of your data with the `.head()` built-in function. If run alone in a notebook cell, it will show you the first and last handful of columns and the first 5 rows."
   ]
  },
  {
   "cell_type": "code",
   "execution_count": 6,
   "metadata": {
    "colab": {
     "base_uri": "https://localhost:8080/",
     "height": 363
    },
    "executionInfo": {
     "elapsed": 161,
     "status": "ok",
     "timestamp": 1728703390732,
     "user": {
      "displayName": "Molovi S",
      "userId": "06654259060779244582"
     },
     "user_tz": 420
    },
    "id": "9K8QSKX3swv2",
    "nbpresent": {
     "id": "f332b800-d5b7-4ee9-8d36-77ecd7c4465c"
    },
    "outputId": "a74e88b3-4deb-467d-e817-75202b82a4f4"
   },
   "outputs": [
    {
     "data": {
      "text/html": [
       "<div>\n",
       "<style scoped>\n",
       "    .dataframe tbody tr th:only-of-type {\n",
       "        vertical-align: middle;\n",
       "    }\n",
       "\n",
       "    .dataframe tbody tr th {\n",
       "        vertical-align: top;\n",
       "    }\n",
       "\n",
       "    .dataframe thead th {\n",
       "        text-align: right;\n",
       "    }\n",
       "</style>\n",
       "<table border=\"1\" class=\"dataframe\">\n",
       "  <thead>\n",
       "    <tr style=\"text-align: right;\">\n",
       "      <th></th>\n",
       "      <th>City</th>\n",
       "      <th>Colors Reported</th>\n",
       "      <th>Shape Reported</th>\n",
       "      <th>State</th>\n",
       "      <th>Time</th>\n",
       "    </tr>\n",
       "  </thead>\n",
       "  <tbody>\n",
       "    <tr>\n",
       "      <th>0</th>\n",
       "      <td>Ithaca</td>\n",
       "      <td>NaN</td>\n",
       "      <td>TRIANGLE</td>\n",
       "      <td>NY</td>\n",
       "      <td>6/1/1930 22:00</td>\n",
       "    </tr>\n",
       "    <tr>\n",
       "      <th>1</th>\n",
       "      <td>Willingboro</td>\n",
       "      <td>NaN</td>\n",
       "      <td>OTHER</td>\n",
       "      <td>NJ</td>\n",
       "      <td>6/30/1930 20:00</td>\n",
       "    </tr>\n",
       "    <tr>\n",
       "      <th>2</th>\n",
       "      <td>Holyoke</td>\n",
       "      <td>NaN</td>\n",
       "      <td>OVAL</td>\n",
       "      <td>CO</td>\n",
       "      <td>2/15/1931 14:00</td>\n",
       "    </tr>\n",
       "    <tr>\n",
       "      <th>3</th>\n",
       "      <td>Abilene</td>\n",
       "      <td>NaN</td>\n",
       "      <td>DISK</td>\n",
       "      <td>KS</td>\n",
       "      <td>6/1/1931 13:00</td>\n",
       "    </tr>\n",
       "    <tr>\n",
       "      <th>4</th>\n",
       "      <td>New York Worlds Fair</td>\n",
       "      <td>NaN</td>\n",
       "      <td>LIGHT</td>\n",
       "      <td>NY</td>\n",
       "      <td>4/18/1933 19:00</td>\n",
       "    </tr>\n",
       "    <tr>\n",
       "      <th>5</th>\n",
       "      <td>Valley City</td>\n",
       "      <td>NaN</td>\n",
       "      <td>DISK</td>\n",
       "      <td>ND</td>\n",
       "      <td>9/15/1934 15:30</td>\n",
       "    </tr>\n",
       "    <tr>\n",
       "      <th>6</th>\n",
       "      <td>Crater Lake</td>\n",
       "      <td>NaN</td>\n",
       "      <td>CIRCLE</td>\n",
       "      <td>CA</td>\n",
       "      <td>6/15/1935 0:00</td>\n",
       "    </tr>\n",
       "    <tr>\n",
       "      <th>7</th>\n",
       "      <td>Alma</td>\n",
       "      <td>NaN</td>\n",
       "      <td>DISK</td>\n",
       "      <td>MI</td>\n",
       "      <td>7/15/1936 0:00</td>\n",
       "    </tr>\n",
       "    <tr>\n",
       "      <th>8</th>\n",
       "      <td>Eklutna</td>\n",
       "      <td>NaN</td>\n",
       "      <td>CIGAR</td>\n",
       "      <td>AK</td>\n",
       "      <td>10/15/1936 17:00</td>\n",
       "    </tr>\n",
       "    <tr>\n",
       "      <th>9</th>\n",
       "      <td>Hubbard</td>\n",
       "      <td>NaN</td>\n",
       "      <td>CYLINDER</td>\n",
       "      <td>OR</td>\n",
       "      <td>6/15/1937 0:00</td>\n",
       "    </tr>\n",
       "  </tbody>\n",
       "</table>\n",
       "</div>"
      ],
      "text/plain": [
       "                   City Colors Reported Shape Reported State              Time\n",
       "0                Ithaca             NaN       TRIANGLE    NY    6/1/1930 22:00\n",
       "1           Willingboro             NaN          OTHER    NJ   6/30/1930 20:00\n",
       "2               Holyoke             NaN           OVAL    CO   2/15/1931 14:00\n",
       "3               Abilene             NaN           DISK    KS    6/1/1931 13:00\n",
       "4  New York Worlds Fair             NaN          LIGHT    NY   4/18/1933 19:00\n",
       "5           Valley City             NaN           DISK    ND   9/15/1934 15:30\n",
       "6           Crater Lake             NaN         CIRCLE    CA    6/15/1935 0:00\n",
       "7                  Alma             NaN           DISK    MI    7/15/1936 0:00\n",
       "8               Eklutna             NaN          CIGAR    AK  10/15/1936 17:00\n",
       "9               Hubbard             NaN       CYLINDER    OR    6/15/1937 0:00"
      ]
     },
     "execution_count": 6,
     "metadata": {},
     "output_type": "execute_result"
    }
   ],
   "source": [
    "#-----------------------------------------\n"
   ]
  },
  {
   "cell_type": "markdown",
   "metadata": {
    "id": "37ODp-Osswv3",
    "nbpresent": {
     "id": "1e6c6b41-692a-43fd-b4e6-81ee125dad7e"
    }
   },
   "source": [
    "If we want to see the last part of our data, we can equivalently use the ```.tail()``` function."
   ]
  },
  {
   "cell_type": "code",
   "execution_count": 10,
   "metadata": {
    "id": "A_FKSBFKswv3",
    "nbpresent": {
     "id": "0077c2a2-48f2-4c30-9181-34d2fc466bc9"
    },
    "outputId": "746d5634-bdc0-4c6a-9be9-24ef96233d2d"
   },
   "outputs": [
    {
     "data": {
      "text/html": [
       "<div>\n",
       "<style scoped>\n",
       "    .dataframe tbody tr th:only-of-type {\n",
       "        vertical-align: middle;\n",
       "    }\n",
       "\n",
       "    .dataframe tbody tr th {\n",
       "        vertical-align: top;\n",
       "    }\n",
       "\n",
       "    .dataframe thead th {\n",
       "        text-align: right;\n",
       "    }\n",
       "</style>\n",
       "<table border=\"1\" class=\"dataframe\">\n",
       "  <thead>\n",
       "    <tr style=\"text-align: right;\">\n",
       "      <th></th>\n",
       "      <th>City</th>\n",
       "      <th>Colors Reported</th>\n",
       "      <th>Shape Reported</th>\n",
       "      <th>State</th>\n",
       "      <th>Time</th>\n",
       "    </tr>\n",
       "  </thead>\n",
       "  <tbody>\n",
       "    <tr>\n",
       "      <th>80531</th>\n",
       "      <td>Abingdon</td>\n",
       "      <td>NaN</td>\n",
       "      <td>CIRCLE</td>\n",
       "      <td>VA</td>\n",
       "      <td>9/4/2014 22:05</td>\n",
       "    </tr>\n",
       "    <tr>\n",
       "      <th>80532</th>\n",
       "      <td>Lawrence</td>\n",
       "      <td>NaN</td>\n",
       "      <td>LIGHT</td>\n",
       "      <td>MA</td>\n",
       "      <td>9/4/2014 22:15</td>\n",
       "    </tr>\n",
       "    <tr>\n",
       "      <th>80533</th>\n",
       "      <td>Melbourne</td>\n",
       "      <td>NaN</td>\n",
       "      <td>OVAL</td>\n",
       "      <td>IA</td>\n",
       "      <td>9/4/2014 22:15</td>\n",
       "    </tr>\n",
       "    <tr>\n",
       "      <th>80534</th>\n",
       "      <td>Burleson</td>\n",
       "      <td>NaN</td>\n",
       "      <td>LIGHT</td>\n",
       "      <td>TX</td>\n",
       "      <td>9/4/2014 22:30</td>\n",
       "    </tr>\n",
       "    <tr>\n",
       "      <th>80535</th>\n",
       "      <td>Elizabethtown</td>\n",
       "      <td>NaN</td>\n",
       "      <td>CIRCLE</td>\n",
       "      <td>KY</td>\n",
       "      <td>9/4/2014 22:30</td>\n",
       "    </tr>\n",
       "    <tr>\n",
       "      <th>80536</th>\n",
       "      <td>Wyoming</td>\n",
       "      <td>RED</td>\n",
       "      <td>DISK</td>\n",
       "      <td>PA</td>\n",
       "      <td>9/4/2014 23:00</td>\n",
       "    </tr>\n",
       "    <tr>\n",
       "      <th>80537</th>\n",
       "      <td>Neligh</td>\n",
       "      <td>NaN</td>\n",
       "      <td>CIRCLE</td>\n",
       "      <td>NE</td>\n",
       "      <td>9/4/2014 23:20</td>\n",
       "    </tr>\n",
       "    <tr>\n",
       "      <th>80538</th>\n",
       "      <td>Neligh</td>\n",
       "      <td>NaN</td>\n",
       "      <td>CIRCLE</td>\n",
       "      <td>NE</td>\n",
       "      <td>9/4/2014 23:20</td>\n",
       "    </tr>\n",
       "    <tr>\n",
       "      <th>80539</th>\n",
       "      <td>Uhrichsville</td>\n",
       "      <td>NaN</td>\n",
       "      <td>LIGHT</td>\n",
       "      <td>OH</td>\n",
       "      <td>9/5/2014 1:14</td>\n",
       "    </tr>\n",
       "    <tr>\n",
       "      <th>80540</th>\n",
       "      <td>Tucson</td>\n",
       "      <td>RED BLUE</td>\n",
       "      <td>NaN</td>\n",
       "      <td>AZ</td>\n",
       "      <td>9/5/2014 2:40</td>\n",
       "    </tr>\n",
       "    <tr>\n",
       "      <th>80541</th>\n",
       "      <td>Orland park</td>\n",
       "      <td>RED</td>\n",
       "      <td>LIGHT</td>\n",
       "      <td>IL</td>\n",
       "      <td>9/5/2014 3:43</td>\n",
       "    </tr>\n",
       "    <tr>\n",
       "      <th>80542</th>\n",
       "      <td>Loughman</td>\n",
       "      <td>NaN</td>\n",
       "      <td>LIGHT</td>\n",
       "      <td>FL</td>\n",
       "      <td>9/5/2014 5:30</td>\n",
       "    </tr>\n",
       "  </tbody>\n",
       "</table>\n",
       "</div>"
      ],
      "text/plain": [
       "                City Colors Reported Shape Reported State            Time\n",
       "80531       Abingdon             NaN         CIRCLE    VA  9/4/2014 22:05\n",
       "80532       Lawrence             NaN          LIGHT    MA  9/4/2014 22:15\n",
       "80533      Melbourne             NaN           OVAL    IA  9/4/2014 22:15\n",
       "80534       Burleson             NaN          LIGHT    TX  9/4/2014 22:30\n",
       "80535  Elizabethtown             NaN         CIRCLE    KY  9/4/2014 22:30\n",
       "80536        Wyoming             RED           DISK    PA  9/4/2014 23:00\n",
       "80537         Neligh             NaN         CIRCLE    NE  9/4/2014 23:20\n",
       "80538         Neligh             NaN         CIRCLE    NE  9/4/2014 23:20\n",
       "80539   Uhrichsville             NaN          LIGHT    OH   9/5/2014 1:14\n",
       "80540         Tucson        RED BLUE            NaN    AZ   9/5/2014 2:40\n",
       "80541    Orland park             RED          LIGHT    IL   9/5/2014 3:43\n",
       "80542       Loughman             NaN          LIGHT    FL   9/5/2014 5:30"
      ]
     },
     "execution_count": 10,
     "metadata": {},
     "output_type": "execute_result"
    }
   ],
   "source": [
    "#---------------------------------------\n"
   ]
  },
  {
   "cell_type": "markdown",
   "metadata": {
    "id": "m2Hk2cmOswv3",
    "nbpresent": {
     "id": "2c901f72-6d15-4e6b-9592-de89ff0b4dfa"
    }
   },
   "source": [
    "<a id='data_dimensions'></a>\n",
    "\n",
    "### Data dimensions\n",
    "\n",
    "---\n",
    "\n",
    "It's good to look at what the dimensions of your data are. The ```.shape``` property will tell you the rows and colum counts of your DataFrame."
   ]
  },
  {
   "cell_type": "code",
   "execution_count": 6,
   "metadata": {
    "colab": {
     "base_uri": "https://localhost:8080/"
    },
    "executionInfo": {
     "elapsed": 214,
     "status": "ok",
     "timestamp": 1728705017300,
     "user": {
      "displayName": "Molovi S",
      "userId": "06654259060779244582"
     },
     "user_tz": 420
    },
    "id": "-JlU8587swv3",
    "nbpresent": {
     "id": "9a9b6f73-3b89-41e7-99eb-14e7afa83467"
    },
    "outputId": "ba60d969-8379-4c5c-e680-7e162abf357d"
   },
   "outputs": [],
   "source": [
    "#------------------\n"
   ]
  },
  {
   "cell_type": "markdown",
   "metadata": {
    "id": "Gtzv6mbtswv3"
   },
   "source": [
    "`/poll \"In terms of rows, is this the largest dataset you've ever worked with?\" \"Yes\" \"No\" \"Not sure, but I'm not impressed anyway\" anonymous limit 1`\n",
    "\n",
    "You will notice that this is operates the same as `.shape` for numpy arrays/matricies. Pandas makes use of numpy under the hood for optimization and speed.\n",
    "\n",
    "Look at the names of your columns with the ```.columns``` property."
   ]
  },
  {
   "cell_type": "code",
   "execution_count": 8,
   "metadata": {
    "id": "QMbx7VHUswv3",
    "nbpresent": {
     "id": "b2da21bb-5a29-441d-a0b7-949ecf9938c8"
    },
    "outputId": "19fff4f6-69ff-4cc0-a157-7ba6f485549f"
   },
   "outputs": [],
   "source": [
    "#----------------\n"
   ]
  },
  {
   "cell_type": "markdown",
   "metadata": {
    "id": "JjOKNykPswv3",
    "nbpresent": {
     "id": "fc25fdf8-5959-4d0e-ab9d-ab6da5c83209"
    }
   },
   "source": [
    "Accessing a specific column is easy. You can use the bracket syntax just like python dictionaries with the string name of the column to extract that column."
   ]
  },
  {
   "cell_type": "code",
   "execution_count": 10,
   "metadata": {},
   "outputs": [],
   "source": [
    "#------------------------------\n",
    "#One method....\n"
   ]
  },
  {
   "cell_type": "code",
   "execution_count": 12,
   "metadata": {
    "id": "C31urz5oswv4",
    "nbpresent": {
     "id": "c1d9b4d1-263d-4ca1-acf6-d18ad31c16e6"
    },
    "outputId": "e4ae9bf5-2d9a-4ad8-d209-aaa1de3971c9"
   },
   "outputs": [],
   "source": [
    "#Another method...\n"
   ]
  },
  {
   "cell_type": "code",
   "execution_count": 14,
   "metadata": {
    "colab": {
     "base_uri": "https://localhost:8080/",
     "height": 458
    },
    "executionInfo": {
     "elapsed": 240,
     "status": "ok",
     "timestamp": 1728704952844,
     "user": {
      "displayName": "Molovi S",
      "userId": "06654259060779244582"
     },
     "user_tz": 420
    },
    "id": "F-JsXpy0swv4",
    "outputId": "e93217cb-121d-4639-c457-cd35b90f908c",
    "tags": []
   },
   "outputs": [],
   "source": [
    "#Another......\n"
   ]
  },
  {
   "cell_type": "code",
   "execution_count": null,
   "metadata": {
    "id": "58qcRfAFswv4"
   },
   "outputs": [],
   "source": []
  },
  {
   "cell_type": "markdown",
   "metadata": {
    "id": "T19CMG6pswv4",
    "nbpresent": {
     "id": "d1473cb4-9805-4831-aca8-71c68c271729"
    }
   },
   "source": [
    "As you can see we can also use the ```.head()``` function on a single column, which is represented as a pandas Series object."
   ]
  },
  {
   "cell_type": "markdown",
   "metadata": {
    "id": "x9QxZDJJswv4",
    "nbpresent": {
     "id": "e5d6b43d-4118-465d-bea3-83a2caf96b8e"
    }
   },
   "source": [
    "You can also access a column (as a DataFrame instead of a Series) or multiple columns with a list of strings."
   ]
  },
  {
   "cell_type": "code",
   "execution_count": 16,
   "metadata": {
    "id": "IMopowRUswv5",
    "outputId": "85799b15-0018-4ffd-d2e6-9cd30475fe83"
   },
   "outputs": [],
   "source": [
    "#-------------------\n",
    "#try slicing your data frame:\n"
   ]
  },
  {
   "cell_type": "code",
   "execution_count": null,
   "metadata": {
    "id": "6JBdYhKWswv6"
   },
   "outputs": [],
   "source": []
  },
  {
   "cell_type": "markdown",
   "metadata": {
    "id": "o0oiPlpGswv6",
    "nbpresent": {
     "id": "0c73f9d4-b242-441c-b606-40c05b450f25"
    }
   },
   "source": [
    "<a id='dataframe_series'></a>\n",
    "\n",
    "### DataFrame vs. Series\n",
    "\n",
    "---\n",
    "\n",
    "We've been playing with them, so I guess we should define them formally:\n",
    "\n",
    "* A **`Series`** is a one-dimensional array of values **with an index**.\n",
    "* A **`DataFrame`** is a two-dimensional array of values **with both a row and column index**.\n",
    "* It turns out - each column of a `DataFrame` is actually a `Series`!\n",
    "\n",
    "![](./assets/series-vs-df.png)\n",
    "\n",
    "There is an important difference between using a list of strings and just a string with a column's name: when you use a list with the string it returns another **DataFrame**, but when you use just the string it returns a pandas **Series** object."
   ]
  },
  {
   "cell_type": "code",
   "execution_count": 18,
   "metadata": {
    "id": "H5UiP70_swv6",
    "nbpresent": {
     "id": "a8526589-1116-4c85-be23-5cba34430f32"
    },
    "outputId": "a37aad78-41f5-4ae2-9dae-cdf1802a74ef"
   },
   "outputs": [],
   "source": [
    "#print out the type: series vs dataframe\n"
   ]
  },
  {
   "cell_type": "markdown",
   "metadata": {
    "id": "rqRaeQ81swv7"
   },
   "source": [
    "<a id='info'></a>\n",
    "\n",
    "### Examining your data with `.info()`\n",
    "\n",
    "---\n",
    "\n",
    "The `.info()` should be the first thing you look at when getting acquainted with a new dataset.\n",
    "\n",
    "**Types** are very important.  They impact the way data will be represented in our machine learning models, how data can be joined, whether or not math operators can be applied, and when you can encounter unexpected results.\n",
    "\n",
    "> _Typical problems when working with new datasets_:\n",
    "> - Missing values\n",
    "> - Unexpected types (string/object instead of int/float)\n",
    "> - Dirty data (commas, dollar signs, unexpected characters, etc)\n",
    "> - Blank values that are actually \"non-null\" or single white-space characters\n",
    "\n",
    "`.info()` is a function that is available on every **DataFrame** object. It gives you information about:\n",
    "\n",
    "- Name of column / variable attribute\n",
    "- Type of index (RangeIndex is default)\n",
    "- Count of non-null values by column / attribute\n",
    "- Type of data contained in column / attribute\n",
    "- Unqiue counts of dtypes (Pandas data types)\n",
    "- Memory usage of our dataset\n"
   ]
  },
  {
   "cell_type": "code",
   "execution_count": 26,
   "metadata": {
    "id": "xVS2X770swv7",
    "outputId": "32f73192-caa8-4157-fd7c-07080fd2a6e3"
   },
   "outputs": [
    {
     "name": "stdout",
     "output_type": "stream",
     "text": [
      "<class 'pandas.core.frame.DataFrame'>\n",
      "RangeIndex: 80543 entries, 0 to 80542\n",
      "Data columns (total 5 columns):\n",
      " #   Column           Non-Null Count  Dtype \n",
      "---  ------           --------------  ----- \n",
      " 0   City             80492 non-null  object\n",
      " 1   Colors Reported  17034 non-null  object\n",
      " 2   Shape Reported   72141 non-null  object\n",
      " 3   State            80543 non-null  object\n",
      " 4   Time             80543 non-null  object\n",
      "dtypes: object(5)\n",
      "memory usage: 3.1+ MB\n"
     ]
    }
   ],
   "source": [
    "ufo.info()"
   ]
  },
  {
   "cell_type": "markdown",
   "metadata": {
    "id": "JYh06NoLswv7",
    "nbpresent": {
     "id": "3f0c0568-5a2d-4559-ac13-7170a5c43846"
    },
    "tags": []
   },
   "source": [
    "<a id='describe'></a>\n",
    "\n",
    "## Quick Summaries\n",
    "\n",
    "---\n",
    "\n",
    "The `.describe()` function is very useful for taking a quick look at your data. It gives you some of the basic descriptive statistics.\n",
    "\n",
    "You can use `.value_counts()` to get a good tabular view of a categorical variable."
   ]
  },
  {
   "cell_type": "code",
   "execution_count": 35,
   "metadata": {},
   "outputs": [],
   "source": [
    "# Let's read in the diamonds data set.\n",
    "diamonds = pd.read_csv(\"datasets/diamonds.csv\")"
   ]
  },
  {
   "cell_type": "code",
   "execution_count": 21,
   "metadata": {
    "id": "Ay6lSPqKswv8",
    "outputId": "0d12a025-7a57-409a-d46c-7f6c777795bb"
   },
   "outputs": [],
   "source": [
    "# Let's describe the price--------\n"
   ]
  },
  {
   "cell_type": "code",
   "execution_count": 16,
   "metadata": {},
   "outputs": [
    {
     "data": {
      "image/png": "[encoded data removed]",
      "text/plain": [
       "<Figure size 800x600 with 1 Axes>"
      ]
     },
     "metadata": {},
     "output_type": "display_data"
    }
   ],
   "source": [
    "plt.figure(figsize=(8, 6))\n",
    "plt.hist(diamonds['price'], bins=30, edgecolor='black')\n",
    "plt.title('Histogram of Price')\n",
    "plt.xlabel('Price')\n",
    "plt.ylabel('Frequency')\n",
    "plt.grid(True)\n",
    "plt.show()"
   ]
  },
  {
   "cell_type": "code",
   "execution_count": 19,
   "metadata": {},
   "outputs": [],
   "source": [
    "#About 13k+ 'prices' of diamonds fall within the first box (or bin)"
   ]
  },
  {
   "cell_type": "code",
   "execution_count": 23,
   "metadata": {
    "id": "NUscRRPGswv8",
    "nbpresent": {
     "id": "59ba0259-fb6c-4bd1-b274-2035540493be"
    },
    "outputId": "470e3ab2-72b0-4338-8f4f-a9647418ba0c"
   },
   "outputs": [],
   "source": [
    "# We can even do it to the whole DataFrame - what does that look like?------"
   ]
  },
  {
   "cell_type": "code",
   "execution_count": 25,
   "metadata": {
    "id": "JRID_oSYswv8",
    "outputId": "469e2f27-a23c-4c02-c3f1-9a226a52c28e"
   },
   "outputs": [],
   "source": [
    "# Let's count up the cuts-----\n"
   ]
  },
  {
   "cell_type": "code",
   "execution_count": 27,
   "metadata": {
    "id": "v4mGxm0Yswv9",
    "outputId": "5980615f-75d1-4778-fd55-32c96af150af"
   },
   "outputs": [],
   "source": [
    "# Let's do the same thing, but normalized-----"
   ]
  },
  {
   "cell_type": "markdown",
   "metadata": {
    "id": "tWDUo3k2swv9",
    "nbpresent": {
     "id": "969967d8-7094-4960-8c4b-5583fed79648"
    }
   },
   "source": [
    "```.describe()``` gives us these statistics:\n",
    "\n",
    "- **count**, which is equivalent to the number of cells (rows)\n",
    "- **mean**, the average of the values in the column\n",
    "- **std**, which is the standard deviation\n",
    "- **min**, the minimum value\n",
    "- **25%**, the 25th percentile of the values\n",
    "- **50%**, the 50th percentile of the values, which is the equivalent to the median\n",
    "- **75%**, the 75th percentile of the values\n",
    "- **max**, the maximum value"
   ]
  },
  {
   "cell_type": "markdown",
   "metadata": {
    "id": "a2TBLnroswv9",
    "nbpresent": {
     "id": "5bc97eed-d555-4e31-bbd6-d2f7bc26a1d4"
    }
   },
   "source": [
    "There are built-in math functions that will work on all of the columns of a DataFrame at once, or subsets of the data.\n",
    "\n",
    "I can use the `.mean()` function on the `diamonds` DataFrame to get the mean for every column."
   ]
  },
  {
   "cell_type": "code",
   "execution_count": 45,
   "metadata": {
    "id": "TyL04JH1swv9"
   },
   "outputs": [],
   "source": [
    "#-------------------------\n"
   ]
  },
  {
   "cell_type": "markdown",
   "metadata": {
    "id": "DcrCYFm9swv9"
   },
   "source": [
    "<a id='independent_practice'></a>\n",
    "\n",
    "### Now you!\n",
    "\n",
    "---\n",
    "\n",
    "Now that we know a little bit about basic DataFrame use, let's practice on a new dataset.\n",
    "\n",
    "> Pro tip:  You can use the \"tab\" key to browse filesystem resources when your cursor is in a string to get a relative reference to the files that can be loaded in Jupyter notebook.  Remember, you have to use your arrow keys to navigate the files populated in the UI.\n",
    "\n",
    "<img src=\"https://snag.gy/IlLNm9.jpg\">\n",
    "\n",
    "1. Read in the `cars.csv` dataset. (call it `cars`)\n",
    "1. What is the mean `mpg` for cars in this dataset?"
   ]
  },
  {
   "cell_type": "code",
   "execution_count": 47,
   "metadata": {},
   "outputs": [],
   "source": [
    "#-------------------------------\n",
    "cars = "
   ]
  },
  {
   "cell_type": "markdown",
   "metadata": {
    "id": "c_hjf6ur4G0G"
   },
   "source": [
    "**Give me the first few rows of the data:**"
   ]
  },
  {
   "cell_type": "code",
   "execution_count": 49,
   "metadata": {
    "id": "5e-a0mhrswv-",
    "outputId": "b12d38c2-0865-4c0f-cad8-48f42d2f1cc8"
   },
   "outputs": [],
   "source": [
    "#--------------------\n"
   ]
  },
  {
   "cell_type": "markdown",
   "metadata": {
    "id": "-cdP8pOo4PPZ"
   },
   "source": [
    "**Give me the last few rows of the data:**"
   ]
  },
  {
   "cell_type": "code",
   "execution_count": 51,
   "metadata": {
    "id": "_IoosJGGswv-",
    "outputId": "d357a797-e95f-4c78-c060-67489f8e6d10"
   },
   "outputs": [],
   "source": [
    "#---------------------\n"
   ]
  },
  {
   "cell_type": "markdown",
   "metadata": {
    "id": "VWvQQC0Tswv-"
   },
   "source": [
    "## Filtering\n",
    "We usually don't need to operate on the _whole_ dataset. A very common task is to parse it down to only the pieces we need."
   ]
  },
  {
   "cell_type": "code",
   "execution_count": null,
   "metadata": {
    "id": "7OVfbhAhswv-"
   },
   "outputs": [],
   "source": []
  },
  {
   "cell_type": "code",
   "execution_count": null,
   "metadata": {
    "id": "Lrml7CMNswv-",
    "outputId": "594f4e1f-5466-447e-9547-69da2d0d38be"
   },
   "outputs": [],
   "source": []
  },
  {
   "cell_type": "code",
   "execution_count": null,
   "metadata": {
    "id": "coNZB7Usswv_",
    "outputId": "9a984acf-1015-4c34-9d70-4c5fc5127481"
   },
   "outputs": [],
   "source": []
  },
  {
   "cell_type": "code",
   "execution_count": null,
   "metadata": {
    "id": "7SByW3bjswv_",
    "outputId": "fd577561-89c3-42a2-e636-138a54fa17bd"
   },
   "outputs": [],
   "source": []
  },
  {
   "cell_type": "code",
   "execution_count": null,
   "metadata": {
    "id": "jK62T-8sswv_",
    "outputId": "305dc5b5-c990-4323-fceb-67f3c6a89911",
    "scrolled": true
   },
   "outputs": [],
   "source": []
  },
  {
   "cell_type": "code",
   "execution_count": null,
   "metadata": {},
   "outputs": [],
   "source": []
  },
  {
   "cell_type": "code",
   "execution_count": null,
   "metadata": {
    "id": "oDtMejtYswv_",
    "outputId": "defc32eb-ac22-43ea-f086-e47eabe5ce37",
    "tags": []
   },
   "outputs": [],
   "source": []
  },
  {
   "cell_type": "code",
   "execution_count": null,
   "metadata": {
    "id": "-EUKLdpXswv_"
   },
   "outputs": [],
   "source": []
  },
  {
   "cell_type": "markdown",
   "metadata": {
    "id": "6OJDFH-7swv_"
   },
   "source": [
    "Filtering in pandas uses vectors of booleans to describe inclusion or exclusion. `True` means you're in, `False` means you're out."
   ]
  },
  {
   "cell_type": "code",
   "execution_count": null,
   "metadata": {
    "id": "pFTTJWHXswv_",
    "outputId": "d3c9e319-730a-4e82-b4ed-801bc87e5c22"
   },
   "outputs": [],
   "source": []
  },
  {
   "cell_type": "code",
   "execution_count": null,
   "metadata": {
    "id": "-823IMKsswv_",
    "outputId": "41cad69f-df80-40be-f3a5-863b19638e80"
   },
   "outputs": [],
   "source": []
  },
  {
   "cell_type": "markdown",
   "metadata": {
    "id": "cum_6NHHswwA"
   },
   "source": [
    "### Multiple Filters\n",
    "Often we want to filter based on multiple conditions. We can use the usual \"and\" and \"or\" logic, but the symbols change for mystical Python reasons."
   ]
  },
  {
   "cell_type": "code",
   "execution_count": null,
   "metadata": {
    "id": "gY0cW8jCswwA",
    "outputId": "245a1a26-0a27-41bf-a694-d29d69db3e5e"
   },
   "outputs": [],
   "source": []
  },
  {
   "cell_type": "code",
   "execution_count": null,
   "metadata": {
    "id": "vqGJsjv-swwA",
    "outputId": "9235e25c-1d3d-44c9-ccf4-88d950e7e9d8"
   },
   "outputs": [],
   "source": []
  },
  {
   "cell_type": "markdown",
   "metadata": {
    "id": "ih68SFNDswwA"
   },
   "source": [
    "### Now you:"
   ]
  },
  {
   "cell_type": "code",
   "execution_count": 67,
   "metadata": {
    "id": "p_r1LmnmswwB",
    "outputId": "ba83d619-25bf-4110-a9a2-528b2adf5b78",
    "scrolled": true
   },
   "outputs": [],
   "source": [
    "#----------------------\n",
    "# Show me all the UFO sightings in your hometown! (City and State)\n",
    "# Anything interesting?\n",
    "# For us, how would the syntax look when we just want to look at ufo data in\n",
    "#'Los Angeles', 'CA'\n"
   ]
  },
  {
   "cell_type": "code",
   "execution_count": null,
   "metadata": {},
   "outputs": [],
   "source": []
  },
  {
   "cell_type": "code",
   "execution_count": null,
   "metadata": {
    "id": "yjucOXF-swwB",
    "outputId": "9eb70ddc-6565-4632-aaed-266a531564b9"
   },
   "outputs": [],
   "source": []
  },
  {
   "cell_type": "code",
   "execution_count": null,
   "metadata": {
    "id": "6U74vXEeswwB",
    "tags": []
   },
   "outputs": [],
   "source": []
  },
  {
   "cell_type": "markdown",
   "metadata": {
    "id": "srWCpE6uswwB"
   },
   "source": [
    "### Aside: Some shortcuts"
   ]
  },
  {
   "cell_type": "code",
   "execution_count": null,
   "metadata": {
    "id": "OJDiSKJwswwC",
    "outputId": "d3574bb7-b30c-46aa-e215-e402b72ac0af"
   },
   "outputs": [],
   "source": []
  },
  {
   "cell_type": "code",
   "execution_count": null,
   "metadata": {
    "id": "WdNIimZBswwC",
    "outputId": "3ad035cb-6313-4b1d-af71-5fe9914e347c"
   },
   "outputs": [],
   "source": []
  },
  {
   "cell_type": "code",
   "execution_count": null,
   "metadata": {
    "id": "ZZE1DUOCswwC",
    "outputId": "57a62c53-fb3e-4d87-b97b-92b475c79cbe"
   },
   "outputs": [],
   "source": []
  },
  {
   "cell_type": "code",
   "execution_count": null,
   "metadata": {
    "colab": {
     "base_uri": "https://localhost:8080/"
    },
    "executionInfo": {
     "elapsed": 209,
     "status": "ok",
     "timestamp": 1728706136711,
     "user": {
      "displayName": "Molovi S",
      "userId": "06654259060779244582"
     },
     "user_tz": 420
    },
    "id": "hMq4iUqc5pyN",
    "outputId": "8c18b6ae-18e0-45df-d2c2-75cda630d6f1"
   },
   "outputs": [],
   "source": []
  },
  {
   "cell_type": "code",
   "execution_count": null,
   "metadata": {
    "colab": {
     "base_uri": "https://localhost:8080/",
     "height": 206
    },
    "executionInfo": {
     "elapsed": 168,
     "status": "ok",
     "timestamp": 1728706222855,
     "user": {
      "displayName": "Molovi S",
      "userId": "06654259060779244582"
     },
     "user_tz": 420
    },
    "id": "kiIYPWfo6zoH",
    "outputId": "8d9181d6-69fd-439a-a69b-374ffd787a68"
   },
   "outputs": [],
   "source": []
  },
  {
   "cell_type": "code",
   "execution_count": null,
   "metadata": {
    "id": "4sd19RT0swwC"
   },
   "outputs": [],
   "source": []
  },
  {
   "cell_type": "code",
   "execution_count": 76,
   "metadata": {
    "id": "u-FTbzI7swwC",
    "outputId": "0b0e11e4-bbe3-47a9-996e-10967057cf6a"
   },
   "outputs": [],
   "source": [
    "#filter to find stuff with certain letters\n"
   ]
  },
  {
   "cell_type": "code",
   "execution_count": null,
   "metadata": {
    "id": "IZM82E7SswwC"
   },
   "outputs": [],
   "source": []
  },
  {
   "cell_type": "markdown",
   "metadata": {
    "id": "vmkoyGiyswwC",
    "jp-MarkdownHeadingCollapsed": true,
    "nbpresent": {
     "id": "5d655b68-e149-48cf-9739-b2f01fa13b88"
    }
   },
   "source": [
    "<a id='indexing'></a>\n",
    "\n",
    "## Pandas Indexing: `.loc` and `.iloc`\n",
    "\n",
    "---\n",
    "\n",
    "So far we've learned how to select both rows and columns. The savvy and skeptical student would have noticed a problem here. We have ambiguous notation! What does this do:\n",
    "\n",
    "```python\n",
    "data[something]\n",
    "```\n",
    "\n",
    "We can't tell! Is `something` a mask or a string? One selects rows, the other selects columns. **What if we wanted to filter rows and select columns at the same time?!**\n",
    "\n",
    "Pandas has two properties that you can use for indexing:\n",
    "\n",
    "- **`.loc`** indexes with the _labels_ for rows and columns axis.\n",
    "- **`.iloc`** indexes with the _integer positions_ for rows and columns axis.\n",
    "> There used to be a third, `.ix` which is now deprecated and shan't ever be used again."
   ]
  },
  {
   "cell_type": "markdown",
   "metadata": {
    "id": "f1AWrYU0swwC"
   },
   "source": [
    "## `.loc` is Most Common\n",
    "The syntax of `.loc` is pretty intuitive:\n",
    "\n",
    "```python\n",
    "data.loc[rows, columns]\n",
    "```\n",
    "\n",
    "Where `rows` is often a filter (ie, a **mask**), and `columns` is a list of columns, or even just `:` to select all columns."
   ]
  },
  {
   "cell_type": "code",
   "execution_count": null,
   "metadata": {
    "id": "lX-wTIO_swwD"
   },
   "outputs": [],
   "source": [
    "ufo = pd.read_csv('datasets/ufo.csv')"
   ]
  },
  {
   "cell_type": "code",
   "execution_count": null,
   "metadata": {
    "id": "Nwzah-tcswwD",
    "outputId": "e247e8e2-b60c-4807-dc19-109a0a47cf51"
   },
   "outputs": [
    {
     "data": {
      "text/html": [
       "<div>\n",
       "<style scoped>\n",
       "    .dataframe tbody tr th:only-of-type {\n",
       "        vertical-align: middle;\n",
       "    }\n",
       "\n",
       "    .dataframe tbody tr th {\n",
       "        vertical-align: top;\n",
       "    }\n",
       "\n",
       "    .dataframe thead th {\n",
       "        text-align: right;\n",
       "    }\n",
       "</style>\n",
       "<table border=\"1\" class=\"dataframe\">\n",
       "  <thead>\n",
       "    <tr style=\"text-align: right;\">\n",
       "      <th></th>\n",
       "      <th>City</th>\n",
       "      <th>Colors Reported</th>\n",
       "      <th>Shape Reported</th>\n",
       "      <th>State</th>\n",
       "      <th>Time</th>\n",
       "    </tr>\n",
       "  </thead>\n",
       "  <tbody>\n",
       "    <tr>\n",
       "      <th>0</th>\n",
       "      <td>Ithaca</td>\n",
       "      <td>NaN</td>\n",
       "      <td>TRIANGLE</td>\n",
       "      <td>NY</td>\n",
       "      <td>6/1/1930 22:00</td>\n",
       "    </tr>\n",
       "    <tr>\n",
       "      <th>1</th>\n",
       "      <td>Willingboro</td>\n",
       "      <td>NaN</td>\n",
       "      <td>OTHER</td>\n",
       "      <td>NJ</td>\n",
       "      <td>6/30/1930 20:00</td>\n",
       "    </tr>\n",
       "    <tr>\n",
       "      <th>2</th>\n",
       "      <td>Holyoke</td>\n",
       "      <td>NaN</td>\n",
       "      <td>OVAL</td>\n",
       "      <td>CO</td>\n",
       "      <td>2/15/1931 14:00</td>\n",
       "    </tr>\n",
       "    <tr>\n",
       "      <th>3</th>\n",
       "      <td>Abilene</td>\n",
       "      <td>NaN</td>\n",
       "      <td>DISK</td>\n",
       "      <td>KS</td>\n",
       "      <td>6/1/1931 13:00</td>\n",
       "    </tr>\n",
       "    <tr>\n",
       "      <th>4</th>\n",
       "      <td>New York Worlds Fair</td>\n",
       "      <td>NaN</td>\n",
       "      <td>LIGHT</td>\n",
       "      <td>NY</td>\n",
       "      <td>4/18/1933 19:00</td>\n",
       "    </tr>\n",
       "  </tbody>\n",
       "</table>\n",
       "</div>"
      ],
      "text/plain": [
       "                   City Colors Reported Shape Reported State             Time\n",
       "0                Ithaca             NaN       TRIANGLE    NY   6/1/1930 22:00\n",
       "1           Willingboro             NaN          OTHER    NJ  6/30/1930 20:00\n",
       "2               Holyoke             NaN           OVAL    CO  2/15/1931 14:00\n",
       "3               Abilene             NaN           DISK    KS   6/1/1931 13:00\n",
       "4  New York Worlds Fair             NaN          LIGHT    NY  4/18/1933 19:00"
      ]
     },
     "execution_count": 4,
     "metadata": {},
     "output_type": "execute_result"
    }
   ],
   "source": [
    "ufo.head()"
   ]
  },
  {
   "cell_type": "code",
   "execution_count": null,
   "metadata": {
    "id": "AVt_7IzLswwD",
    "outputId": "e154c0d9-d679-4f84-a1a6-7571c2dd5a8a"
   },
   "outputs": [
    {
     "data": {
      "text/html": [
       "<div>\n",
       "<style scoped>\n",
       "    .dataframe tbody tr th:only-of-type {\n",
       "        vertical-align: middle;\n",
       "    }\n",
       "\n",
       "    .dataframe tbody tr th {\n",
       "        vertical-align: top;\n",
       "    }\n",
       "\n",
       "    .dataframe thead th {\n",
       "        text-align: right;\n",
       "    }\n",
       "</style>\n",
       "<table border=\"1\" class=\"dataframe\">\n",
       "  <thead>\n",
       "    <tr style=\"text-align: right;\">\n",
       "      <th></th>\n",
       "      <th>City</th>\n",
       "      <th>Shape Reported</th>\n",
       "    </tr>\n",
       "  </thead>\n",
       "  <tbody>\n",
       "    <tr>\n",
       "      <th>37</th>\n",
       "      <td>Dallas</td>\n",
       "      <td>SPHERE</td>\n",
       "    </tr>\n",
       "    <tr>\n",
       "      <th>43</th>\n",
       "      <td>Alice</td>\n",
       "      <td>DISK</td>\n",
       "    </tr>\n",
       "    <tr>\n",
       "      <th>49</th>\n",
       "      <td>Conroe</td>\n",
       "      <td>OTHER</td>\n",
       "    </tr>\n",
       "    <tr>\n",
       "      <th>92</th>\n",
       "      <td>Borger</td>\n",
       "      <td>DISK</td>\n",
       "    </tr>\n",
       "    <tr>\n",
       "      <th>114</th>\n",
       "      <td>Post</td>\n",
       "      <td>DISK</td>\n",
       "    </tr>\n",
       "    <tr>\n",
       "      <th>...</th>\n",
       "      <td>...</td>\n",
       "      <td>...</td>\n",
       "    </tr>\n",
       "    <tr>\n",
       "      <th>80287</th>\n",
       "      <td>Lago Vista</td>\n",
       "      <td>TRIANGLE</td>\n",
       "    </tr>\n",
       "    <tr>\n",
       "      <th>80350</th>\n",
       "      <td>Houston</td>\n",
       "      <td>TRIANGLE</td>\n",
       "    </tr>\n",
       "    <tr>\n",
       "      <th>80414</th>\n",
       "      <td>Eustace</td>\n",
       "      <td>LIGHT</td>\n",
       "    </tr>\n",
       "    <tr>\n",
       "      <th>80476</th>\n",
       "      <td>Fort Worth</td>\n",
       "      <td>OTHER</td>\n",
       "    </tr>\n",
       "    <tr>\n",
       "      <th>80534</th>\n",
       "      <td>Burleson</td>\n",
       "      <td>LIGHT</td>\n",
       "    </tr>\n",
       "  </tbody>\n",
       "</table>\n",
       "<p>4186 rows × 2 columns</p>\n",
       "</div>"
      ],
      "text/plain": [
       "             City Shape Reported\n",
       "37         Dallas         SPHERE\n",
       "43          Alice           DISK\n",
       "49         Conroe          OTHER\n",
       "92         Borger           DISK\n",
       "114          Post           DISK\n",
       "...           ...            ...\n",
       "80287  Lago Vista       TRIANGLE\n",
       "80350     Houston       TRIANGLE\n",
       "80414     Eustace          LIGHT\n",
       "80476  Fort Worth          OTHER\n",
       "80534    Burleson          LIGHT\n",
       "\n",
       "[4186 rows x 2 columns]"
      ]
     },
     "execution_count": 19,
     "metadata": {},
     "output_type": "execute_result"
    }
   ],
   "source": [
    "ufo.loc[ufo['State'] == 'TX',['City','Shape Reported']   ]"
   ]
  },
  {
   "cell_type": "code",
   "execution_count": null,
   "metadata": {
    "id": "rf4RsZiJswwD",
    "nbpresent": {
     "id": "4162fb31-3624-4996-b1ec-a7a7eb23c5e5"
    }
   },
   "outputs": [],
   "source": [
    "#What if we dont want our whole dataframe but part of it? \n",
    "# The ':' in the first part is saying to grab ALL the ROWS in the dataframe"
   ]
  },
  {
   "cell_type": "code",
   "execution_count": null,
   "metadata": {
    "id": "tnDqjy6sswwD",
    "outputId": "33891d95-4817-482f-c481-56810c274781"
   },
   "outputs": [],
   "source": []
  },
  {
   "cell_type": "code",
   "execution_count": null,
   "metadata": {
    "id": "nsMvnM3kswwD",
    "outputId": "de7f9fbc-2395-4bc4-dfc2-2318120c7570"
   },
   "outputs": [],
   "source": []
  },
  {
   "cell_type": "code",
   "execution_count": null,
   "metadata": {
    "id": "12ryZECLswwE"
   },
   "outputs": [],
   "source": [
    "#--------------------------------------------"
   ]
  },
  {
   "cell_type": "markdown",
   "metadata": {
    "id": "5hO06wBo8QYA"
   },
   "source": [
    "![actually.png](data:image/png;base64,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)"
   ]
  },
  {
   "cell_type": "markdown",
   "metadata": {
    "id": "zaWZmypPswwE"
   },
   "source": [
    "### Acccctually.....\n",
    "![](/content/drive/MyDrive/Classroom/2.01-intro-to-pandas/assets/actually.png)\n",
    "According to **_The Zen of Python_**, explicit is better than implicit. `.loc` is explicit. **Most people choose to always use `.loc` instead of the ambiguous `data[something]` notation! This is a pretty good idea! When in doubt, use `.loc`!**"
   ]
  },
  {
   "cell_type": "markdown",
   "metadata": {
    "id": "82OWsY_1swwE",
    "jp-MarkdownHeadingCollapsed": true,
    "nbpresent": {
     "id": "956f0a2a-51b8-4910-b220-3aa00d8e3848"
    }
   },
   "source": [
    "### `.iloc` is rare, but useful\n",
    "The `i` stands for \"integer\" and will give you the actual zero-indexed numerical indices."
   ]
  },
  {
   "cell_type": "code",
   "execution_count": null,
   "metadata": {
    "id": "VCCAMuT6swwE",
    "nbpresent": {
     "id": "a59893a2-95e8-41cc-b5d9-e0a1fe0800d8"
    },
    "outputId": "b28c26db-3fe9-4707-cc10-2d6307ed9860"
   },
   "outputs": [
    {
     "data": {
      "text/html": [
       "<div>\n",
       "<style scoped>\n",
       "    .dataframe tbody tr th:only-of-type {\n",
       "        vertical-align: middle;\n",
       "    }\n",
       "\n",
       "    .dataframe tbody tr th {\n",
       "        vertical-align: top;\n",
       "    }\n",
       "\n",
       "    .dataframe thead th {\n",
       "        text-align: right;\n",
       "    }\n",
       "</style>\n",
       "<table border=\"1\" class=\"dataframe\">\n",
       "  <thead>\n",
       "    <tr style=\"text-align: right;\">\n",
       "      <th></th>\n",
       "      <th>mpg</th>\n",
       "      <th>cyl</th>\n",
       "      <th>disp</th>\n",
       "      <th>hp</th>\n",
       "      <th>drat</th>\n",
       "      <th>wt</th>\n",
       "      <th>qsec</th>\n",
       "      <th>vs</th>\n",
       "      <th>am</th>\n",
       "      <th>gear</th>\n",
       "      <th>carb</th>\n",
       "    </tr>\n",
       "  </thead>\n",
       "  <tbody>\n",
       "    <tr>\n",
       "      <th>0</th>\n",
       "      <td>21.0</td>\n",
       "      <td>6</td>\n",
       "      <td>160.0</td>\n",
       "      <td>110</td>\n",
       "      <td>3.90</td>\n",
       "      <td>2.620</td>\n",
       "      <td>16.46</td>\n",
       "      <td>0</td>\n",
       "      <td>1</td>\n",
       "      <td>4</td>\n",
       "      <td>4</td>\n",
       "    </tr>\n",
       "    <tr>\n",
       "      <th>1</th>\n",
       "      <td>21.0</td>\n",
       "      <td>6</td>\n",
       "      <td>160.0</td>\n",
       "      <td>110</td>\n",
       "      <td>3.90</td>\n",
       "      <td>2.875</td>\n",
       "      <td>17.02</td>\n",
       "      <td>0</td>\n",
       "      <td>1</td>\n",
       "      <td>4</td>\n",
       "      <td>4</td>\n",
       "    </tr>\n",
       "    <tr>\n",
       "      <th>2</th>\n",
       "      <td>22.8</td>\n",
       "      <td>4</td>\n",
       "      <td>108.0</td>\n",
       "      <td>93</td>\n",
       "      <td>3.85</td>\n",
       "      <td>2.320</td>\n",
       "      <td>18.61</td>\n",
       "      <td>1</td>\n",
       "      <td>1</td>\n",
       "      <td>4</td>\n",
       "      <td>1</td>\n",
       "    </tr>\n",
       "    <tr>\n",
       "      <th>3</th>\n",
       "      <td>21.4</td>\n",
       "      <td>6</td>\n",
       "      <td>258.0</td>\n",
       "      <td>110</td>\n",
       "      <td>3.08</td>\n",
       "      <td>3.215</td>\n",
       "      <td>19.44</td>\n",
       "      <td>1</td>\n",
       "      <td>0</td>\n",
       "      <td>3</td>\n",
       "      <td>1</td>\n",
       "    </tr>\n",
       "    <tr>\n",
       "      <th>4</th>\n",
       "      <td>18.7</td>\n",
       "      <td>8</td>\n",
       "      <td>360.0</td>\n",
       "      <td>175</td>\n",
       "      <td>3.15</td>\n",
       "      <td>3.440</td>\n",
       "      <td>17.02</td>\n",
       "      <td>0</td>\n",
       "      <td>0</td>\n",
       "      <td>3</td>\n",
       "      <td>2</td>\n",
       "    </tr>\n",
       "  </tbody>\n",
       "</table>\n",
       "</div>"
      ],
      "text/plain": [
       "    mpg  cyl   disp   hp  drat     wt   qsec  vs  am  gear  carb\n",
       "0  21.0    6  160.0  110  3.90  2.620  16.46   0   1     4     4\n",
       "1  21.0    6  160.0  110  3.90  2.875  17.02   0   1     4     4\n",
       "2  22.8    4  108.0   93  3.85  2.320  18.61   1   1     4     1\n",
       "3  21.4    6  258.0  110  3.08  3.215  19.44   1   0     3     1\n",
       "4  18.7    8  360.0  175  3.15  3.440  17.02   0   0     3     2"
      ]
     },
     "execution_count": 92,
     "metadata": {},
     "output_type": "execute_result"
    }
   ],
   "source": [
    "cars.iloc[:5, : ] #for the rows i want to see first 5 nad columns i want to see all of em"
   ]
  },
  {
   "cell_type": "code",
   "execution_count": null,
   "metadata": {
    "id": "KznKE_beswwE",
    "nbpresent": {
     "id": "dc4ccdda-2932-48c7-a7d7-1f1b1f30826c"
    },
    "outputId": "0701ef96-6879-4b0f-d0dd-f551cf4f1fdc"
   },
   "outputs": [
    {
     "data": {
      "text/html": [
       "<div>\n",
       "<style scoped>\n",
       "    .dataframe tbody tr th:only-of-type {\n",
       "        vertical-align: middle;\n",
       "    }\n",
       "\n",
       "    .dataframe tbody tr th {\n",
       "        vertical-align: top;\n",
       "    }\n",
       "\n",
       "    .dataframe thead th {\n",
       "        text-align: right;\n",
       "    }\n",
       "</style>\n",
       "<table border=\"1\" class=\"dataframe\">\n",
       "  <thead>\n",
       "    <tr style=\"text-align: right;\">\n",
       "      <th></th>\n",
       "      <th>cyl</th>\n",
       "      <th>disp</th>\n",
       "    </tr>\n",
       "  </thead>\n",
       "  <tbody>\n",
       "    <tr>\n",
       "      <th>10</th>\n",
       "      <td>6</td>\n",
       "      <td>167.6</td>\n",
       "    </tr>\n",
       "    <tr>\n",
       "      <th>11</th>\n",
       "      <td>8</td>\n",
       "      <td>275.8</td>\n",
       "    </tr>\n",
       "    <tr>\n",
       "      <th>12</th>\n",
       "      <td>8</td>\n",
       "      <td>275.8</td>\n",
       "    </tr>\n",
       "    <tr>\n",
       "      <th>13</th>\n",
       "      <td>8</td>\n",
       "      <td>275.8</td>\n",
       "    </tr>\n",
       "    <tr>\n",
       "      <th>14</th>\n",
       "      <td>8</td>\n",
       "      <td>472.0</td>\n",
       "    </tr>\n",
       "    <tr>\n",
       "      <th>15</th>\n",
       "      <td>8</td>\n",
       "      <td>460.0</td>\n",
       "    </tr>\n",
       "    <tr>\n",
       "      <th>16</th>\n",
       "      <td>8</td>\n",
       "      <td>440.0</td>\n",
       "    </tr>\n",
       "    <tr>\n",
       "      <th>17</th>\n",
       "      <td>4</td>\n",
       "      <td>78.7</td>\n",
       "    </tr>\n",
       "    <tr>\n",
       "      <th>18</th>\n",
       "      <td>4</td>\n",
       "      <td>75.7</td>\n",
       "    </tr>\n",
       "    <tr>\n",
       "      <th>19</th>\n",
       "      <td>4</td>\n",
       "      <td>71.1</td>\n",
       "    </tr>\n",
       "  </tbody>\n",
       "</table>\n",
       "</div>"
      ],
      "text/plain": [
       "    cyl   disp\n",
       "10    6  167.6\n",
       "11    8  275.8\n",
       "12    8  275.8\n",
       "13    8  275.8\n",
       "14    8  472.0\n",
       "15    8  460.0\n",
       "16    8  440.0\n",
       "17    4   78.7\n",
       "18    4   75.7\n",
       "19    4   71.1"
      ]
     },
     "execution_count": 93,
     "metadata": {},
     "output_type": "execute_result"
    }
   ],
   "source": [
    "#or\n",
    "cars.iloc[10:20, 1:3 ]"
   ]
  },
  {
   "cell_type": "code",
   "execution_count": null,
   "metadata": {
    "colab": {
     "base_uri": "https://localhost:8080/",
     "height": 81
    },
    "executionInfo": {
     "elapsed": 214,
     "status": "ok",
     "timestamp": 1728707158398,
     "user": {
      "displayName": "Molovi S",
      "userId": "06654259060779244582"
     },
     "user_tz": 420
    },
    "id": "WS_z_Et-swwE",
    "outputId": "6292ed8c-315e-4bc2-d748-6e9d9617e381"
   },
   "outputs": [
    {
     "data": {
      "application/vnd.google.colaboratory.intrinsic+json": {
       "summary": "{\n  \"name\": \"cars\",\n  \"rows\": 1,\n  \"fields\": [\n    {\n      \"column\": \"cyl\",\n      \"properties\": {\n        \"dtype\": \"number\",\n        \"std\": null,\n        \"min\": 7,\n        \"max\": 7,\n        \"num_unique_values\": 1,\n        \"samples\": [\n          7\n        ],\n        \"semantic_type\": \"\",\n        \"description\": \"\"\n      }\n    }\n  ]\n}",
       "type": "dataframe"
      },
      "text/html": [
       "\n",
       "  <div id=\"df-700aeca4-46ae-410a-a6de-a6f96dd373ba\" class=\"colab-df-container\">\n",
       "    <div>\n",
       "<style scoped>\n",
       "    .dataframe tbody tr th:only-of-type {\n",
       "        vertical-align: middle;\n",
       "    }\n",
       "\n",
       "    .dataframe tbody tr th {\n",
       "        vertical-align: top;\n",
       "    }\n",
       "\n",
       "    .dataframe thead th {\n",
       "        text-align: right;\n",
       "    }\n",
       "</style>\n",
       "<table border=\"1\" class=\"dataframe\">\n",
       "  <thead>\n",
       "    <tr style=\"text-align: right;\">\n",
       "      <th></th>\n",
       "      <th>cyl</th>\n",
       "    </tr>\n",
       "  </thead>\n",
       "  <tbody>\n",
       "    <tr>\n",
       "      <th>10</th>\n",
       "      <td>7</td>\n",
       "    </tr>\n",
       "  </tbody>\n",
       "</table>\n",
       "</div>\n",
       "    <div class=\"colab-df-buttons\">\n",
       "\n",
       "  <div class=\"colab-df-container\">\n",
       "    <button class=\"colab-df-convert\" onclick=\"convertToInteractive('df-700aeca4-46ae-410a-a6de-a6f96dd373ba')\"\n",
       "            title=\"Convert this dataframe to an interactive table.\"\n",
       "            style=\"display:none;\">\n",
       "\n",
       "  <svg xmlns=\"http://www.w3.org/2000/svg\" height=\"24px\" viewBox=\"0 -960 960 960\">\n",
       "    <path d=\"M120-120v-720h720v720H120Zm60-500h600v-160H180v160Zm220 220h160v-160H400v160Zm0 220h160v-160H400v160ZM180-400h160v-160H180v160Zm440 0h160v-160H620v160ZM180-180h160v-160H180v160Zm440 0h160v-160H620v160Z\"/>\n",
       "  </svg>\n",
       "    </button>\n",
       "\n",
       "  <style>\n",
       "    .colab-df-container {\n",
       "      display:flex;\n",
       "      gap: 12px;\n",
       "    }\n",
       "\n",
       "    .colab-df-convert {\n",
       "      background-color: #E8F0FE;\n",
       "      border: none;\n",
       "      border-radius: 50%;\n",
       "      cursor: pointer;\n",
       "      display: none;\n",
       "      fill: #1967D2;\n",
       "      height: 32px;\n",
       "      padding: 0 0 0 0;\n",
       "      width: 32px;\n",
       "    }\n",
       "\n",
       "    .colab-df-convert:hover {\n",
       "      background-color: #E2EBFA;\n",
       "      box-shadow: 0px 1px 2px rgba(60, 64, 67, 0.3), 0px 1px 3px 1px rgba(60, 64, 67, 0.15);\n",
       "      fill: #174EA6;\n",
       "    }\n",
       "\n",
       "    .colab-df-buttons div {\n",
       "      margin-bottom: 4px;\n",
       "    }\n",
       "\n",
       "    [theme=dark] .colab-df-convert {\n",
       "      background-color: #3B4455;\n",
       "      fill: #D2E3FC;\n",
       "    }\n",
       "\n",
       "    [theme=dark] .colab-df-convert:hover {\n",
       "      background-color: #434B5C;\n",
       "      box-shadow: 0px 1px 3px 1px rgba(0, 0, 0, 0.15);\n",
       "      filter: drop-shadow(0px 1px 2px rgba(0, 0, 0, 0.3));\n",
       "      fill: #FFFFFF;\n",
       "    }\n",
       "  </style>\n",
       "\n",
       "    <script>\n",
       "      const buttonEl =\n",
       "        document.querySelector('#df-700aeca4-46ae-410a-a6de-a6f96dd373ba button.colab-df-convert');\n",
       "      buttonEl.style.display =\n",
       "        google.colab.kernel.accessAllowed ? 'block' : 'none';\n",
       "\n",
       "      async function convertToInteractive(key) {\n",
       "        const element = document.querySelector('#df-700aeca4-46ae-410a-a6de-a6f96dd373ba');\n",
       "        const dataTable =\n",
       "          await google.colab.kernel.invokeFunction('convertToInteractive',\n",
       "                                                    [key], {});\n",
       "        if (!dataTable) return;\n",
       "\n",
       "        const docLinkHtml = 'Like what you see? Visit the ' +\n",
       "          '<a target=\"_blank\" href=https://colab.research.google.com/notebooks/data_table.ipynb>data table notebook</a>'\n",
       "          + ' to learn more about interactive tables.';\n",
       "        element.innerHTML = '';\n",
       "        dataTable['output_type'] = 'display_data';\n",
       "        await google.colab.output.renderOutput(dataTable, element);\n",
       "        const docLink = document.createElement('div');\n",
       "        docLink.innerHTML = docLinkHtml;\n",
       "        element.appendChild(docLink);\n",
       "      }\n",
       "    </script>\n",
       "  </div>\n",
       "\n",
       "\n",
       "    </div>\n",
       "  </div>\n"
      ],
      "text/plain": [
       "    cyl\n",
       "10    7"
      ]
     },
     "execution_count": 39,
     "metadata": {},
     "output_type": "execute_result"
    }
   ],
   "source": [
    "#single observation:\n",
    "cars.iloc[10:11, 1:2]"
   ]
  },
  {
   "cell_type": "code",
   "execution_count": null,
   "metadata": {
    "id": "DJL41WShswwE",
    "outputId": "b0fd9752-ab32-4786-8ef1-a73bf23e6f04"
   },
   "outputs": [
    {
     "data": {
      "text/html": [
       "<div>\n",
       "<style scoped>\n",
       "    .dataframe tbody tr th:only-of-type {\n",
       "        vertical-align: middle;\n",
       "    }\n",
       "\n",
       "    .dataframe tbody tr th {\n",
       "        vertical-align: top;\n",
       "    }\n",
       "\n",
       "    .dataframe thead th {\n",
       "        text-align: right;\n",
       "    }\n",
       "</style>\n",
       "<table border=\"1\" class=\"dataframe\">\n",
       "  <thead>\n",
       "    <tr style=\"text-align: right;\">\n",
       "      <th></th>\n",
       "      <th>mpg</th>\n",
       "      <th>cyl</th>\n",
       "      <th>disp</th>\n",
       "      <th>hp</th>\n",
       "      <th>drat</th>\n",
       "      <th>wt</th>\n",
       "      <th>qsec</th>\n",
       "      <th>vs</th>\n",
       "      <th>am</th>\n",
       "      <th>gear</th>\n",
       "      <th>carb</th>\n",
       "    </tr>\n",
       "  </thead>\n",
       "  <tbody>\n",
       "    <tr>\n",
       "      <th>5</th>\n",
       "      <td>18.1</td>\n",
       "      <td>6</td>\n",
       "      <td>225.0</td>\n",
       "      <td>105</td>\n",
       "      <td>2.76</td>\n",
       "      <td>3.46</td>\n",
       "      <td>20.22</td>\n",
       "      <td>1</td>\n",
       "      <td>0</td>\n",
       "      <td>3</td>\n",
       "      <td>1</td>\n",
       "    </tr>\n",
       "    <tr>\n",
       "      <th>6</th>\n",
       "      <td>14.3</td>\n",
       "      <td>8</td>\n",
       "      <td>360.0</td>\n",
       "      <td>245</td>\n",
       "      <td>3.21</td>\n",
       "      <td>3.57</td>\n",
       "      <td>15.84</td>\n",
       "      <td>0</td>\n",
       "      <td>0</td>\n",
       "      <td>3</td>\n",
       "      <td>4</td>\n",
       "    </tr>\n",
       "    <tr>\n",
       "      <th>7</th>\n",
       "      <td>24.4</td>\n",
       "      <td>4</td>\n",
       "      <td>146.7</td>\n",
       "      <td>62</td>\n",
       "      <td>3.69</td>\n",
       "      <td>3.19</td>\n",
       "      <td>20.00</td>\n",
       "      <td>1</td>\n",
       "      <td>0</td>\n",
       "      <td>4</td>\n",
       "      <td>2</td>\n",
       "    </tr>\n",
       "    <tr>\n",
       "      <th>8</th>\n",
       "      <td>22.8</td>\n",
       "      <td>4</td>\n",
       "      <td>140.8</td>\n",
       "      <td>95</td>\n",
       "      <td>3.92</td>\n",
       "      <td>3.15</td>\n",
       "      <td>22.90</td>\n",
       "      <td>1</td>\n",
       "      <td>0</td>\n",
       "      <td>4</td>\n",
       "      <td>2</td>\n",
       "    </tr>\n",
       "    <tr>\n",
       "      <th>9</th>\n",
       "      <td>19.2</td>\n",
       "      <td>6</td>\n",
       "      <td>167.6</td>\n",
       "      <td>123</td>\n",
       "      <td>3.92</td>\n",
       "      <td>3.44</td>\n",
       "      <td>18.30</td>\n",
       "      <td>1</td>\n",
       "      <td>0</td>\n",
       "      <td>4</td>\n",
       "      <td>4</td>\n",
       "    </tr>\n",
       "    <tr>\n",
       "      <th>10</th>\n",
       "      <td>17.8</td>\n",
       "      <td>7</td>\n",
       "      <td>167.6</td>\n",
       "      <td>123</td>\n",
       "      <td>3.92</td>\n",
       "      <td>3.44</td>\n",
       "      <td>18.90</td>\n",
       "      <td>1</td>\n",
       "      <td>0</td>\n",
       "      <td>4</td>\n",
       "      <td>4</td>\n",
       "    </tr>\n",
       "    <tr>\n",
       "      <th>11</th>\n",
       "      <td>16.4</td>\n",
       "      <td>8</td>\n",
       "      <td>275.8</td>\n",
       "      <td>180</td>\n",
       "      <td>3.07</td>\n",
       "      <td>4.07</td>\n",
       "      <td>17.40</td>\n",
       "      <td>0</td>\n",
       "      <td>0</td>\n",
       "      <td>3</td>\n",
       "      <td>3</td>\n",
       "    </tr>\n",
       "  </tbody>\n",
       "</table>\n",
       "</div>"
      ],
      "text/plain": [
       "     mpg  cyl   disp   hp  drat    wt   qsec  vs  am  gear  carb\n",
       "5   18.1    6  225.0  105  2.76  3.46  20.22   1   0     3     1\n",
       "6   14.3    8  360.0  245  3.21  3.57  15.84   0   0     3     4\n",
       "7   24.4    4  146.7   62  3.69  3.19  20.00   1   0     4     2\n",
       "8   22.8    4  140.8   95  3.92  3.15  22.90   1   0     4     2\n",
       "9   19.2    6  167.6  123  3.92  3.44  18.30   1   0     4     4\n",
       "10  17.8    7  167.6  123  3.92  3.44  18.90   1   0     4     4\n",
       "11  16.4    8  275.8  180  3.07  4.07  17.40   0   0     3     3"
      ]
     },
     "execution_count": 95,
     "metadata": {},
     "output_type": "execute_result"
    }
   ],
   "source": [
    "cars.iloc[5:12,:]"
   ]
  },
  {
   "cell_type": "code",
   "execution_count": null,
   "metadata": {
    "id": "lPqhfFluswwE"
   },
   "outputs": [],
   "source": []
  },
  {
   "cell_type": "markdown",
   "metadata": {
    "id": "fJVFs3rgswwE"
   },
   "source": [
    "## Sorting"
   ]
  },
  {
   "cell_type": "code",
   "execution_count": null,
   "metadata": {
    "id": "J2S9o1PcswwF"
   },
   "outputs": [],
   "source": [
    "# We can sort individual Series..."
   ]
  },
  {
   "cell_type": "code",
   "execution_count": null,
   "metadata": {
    "id": "ksW-sKbkswwF",
    "outputId": "dcc1132f-73cf-45cb-9f31-41260b31ebde"
   },
   "outputs": [],
   "source": []
  },
  {
   "cell_type": "code",
   "execution_count": 84,
   "metadata": {
    "id": "bxL1R_SpswwF",
    "outputId": "e3d292d3-de1f-4718-ce0c-e5f50bea05c0",
    "scrolled": true
   },
   "outputs": [],
   "source": [
    "# Or the entire DataFrame\n"
   ]
  },
  {
   "cell_type": "markdown",
   "metadata": {
    "id": "rjjhNmglswwF"
   },
   "source": [
    "### Now You:"
   ]
  },
  {
   "cell_type": "code",
   "execution_count": 86,
   "metadata": {},
   "outputs": [
    {
     "data": {
      "text/plain": [
       "0     6/1/1930 22:00\n",
       "1    6/30/1930 20:00\n",
       "2    2/15/1931 14:00\n",
       "3     6/1/1931 13:00\n",
       "4    4/18/1933 19:00\n",
       "Name: Time, dtype: object"
      ]
     },
     "execution_count": 86,
     "metadata": {},
     "output_type": "execute_result"
    }
   ],
   "source": [
    "ufo['Time'].head()"
   ]
  },
  {
   "cell_type": "code",
   "execution_count": 88,
   "metadata": {
    "id": "I_vgaM81swwF"
   },
   "outputs": [],
   "source": [
    "#This is formatting my datetime to something nicer\n",
    "ufo.Time = pd.to_datetime(ufo.Time)"
   ]
  },
  {
   "cell_type": "code",
   "execution_count": 90,
   "metadata": {},
   "outputs": [
    {
     "data": {
      "text/plain": [
       "0   1930-06-01 22:00:00\n",
       "1   1930-06-30 20:00:00\n",
       "2   1931-02-15 14:00:00\n",
       "3   1931-06-01 13:00:00\n",
       "4   1933-04-18 19:00:00\n",
       "Name: Time, dtype: datetime64[ns]"
      ]
     },
     "execution_count": 90,
     "metadata": {},
     "output_type": "execute_result"
    }
   ],
   "source": [
    "ufo['Time'].head()"
   ]
  },
  {
   "cell_type": "code",
   "execution_count": null,
   "metadata": {},
   "outputs": [],
   "source": []
  },
  {
   "cell_type": "markdown",
   "metadata": {},
   "source": [
    "**Give me the 5 most recent UFO sightings in Roswell, New Mexico.\n",
    "You'll need to filter and use .sort_values()\n",
    "This is a hard one!**"
   ]
  },
  {
   "cell_type": "code",
   "execution_count": 93,
   "metadata": {
    "id": "w1aESC9gswwF",
    "outputId": "88f1f340-c471-4dc9-d2df-b8b77117153d"
   },
   "outputs": [],
   "source": [
    "#-----------------------------------\n",
    "# Mask method\n"
   ]
  },
  {
   "cell_type": "code",
   "execution_count": null,
   "metadata": {
    "id": "fYYE1IV3swwG"
   },
   "outputs": [],
   "source": []
  },
  {
   "cell_type": "code",
   "execution_count": 95,
   "metadata": {
    "id": "j-w0NIDcswwG",
    "outputId": "17090d0f-2c38-426f-9615-c0bdc4382bb8"
   },
   "outputs": [],
   "source": [
    "# .loc method\n"
   ]
  },
  {
   "cell_type": "code",
   "execution_count": null,
   "metadata": {
    "id": "2DuVkHMVswwG"
   },
   "outputs": [],
   "source": []
  },
  {
   "cell_type": "markdown",
   "metadata": {
    "id": "CetV-eGJswwG",
    "nbpresent": {
     "id": "b7034391-7d6d-4f08-beca-147e18036001"
    }
   },
   "source": [
    "## Split-Apply-Combine\n",
    "\n",
    "---\n",
    "\n",
    "What if we want summary statistics _with respect to some categorical variable?_ For example, the price of a diamond probably varies widely between different diamond cuts. To tackle this problem, we'll use the **Split-Apply-Combine** technique. (This is sometimes called **MapReduce**, but is more of a special case of MapReduce).\n",
    "\n",
    "* **Split**: Separate your data into different DataFrames, one for each category.\n",
    "* **Apply**: On each split-up DataFrame, apply some function or transformation (for example, the mean).\n",
    "* **Combine**: Take the results and combine the split-up DataFrames back into one aggregate DataFrame.\n",
    "\n",
    "This might sound complicated, but it's actually only two commands in pandas (the **Combine** step is done for us)."
   ]
  },
  {
   "cell_type": "code",
   "execution_count": 97,
   "metadata": {
    "id": "dR6Vae-PswwG",
    "outputId": "78d89e1f-ac55-475b-b881-51463c7af128"
   },
   "outputs": [],
   "source": [
    "# What is the mean price by diamond cut?\n"
   ]
  },
  {
   "cell_type": "code",
   "execution_count": 99,
   "metadata": {},
   "outputs": [],
   "source": [
    "# Can we just describe each price by cut?\n"
   ]
  },
  {
   "cell_type": "markdown",
   "metadata": {},
   "source": [
    "**std (Standard Deviation):** The amount of variation or dispersion from the mean. A higher standard deviation indicates that data points are more spread out from the mean.\n",
    "\n",
    "**25% (First Quartile/Q1):** This is the value below which 25% of the data fall. It is the first quartile of your data, meaning 25% of the observations have values less than this point.\n",
    "\n",
    "**50% (Median or Second Quartile/Q2):** This is the median of your data, indicating that 50% of observations are below this value and 50% are above. It is the central point of your data distribution.\n",
    "\n",
    "**75% (Third Quartile/Q3):** This is the value below which 75% of the data fall. It shows that 75% of your data points are less than this value."
   ]
  },
  {
   "cell_type": "code",
   "execution_count": null,
   "metadata": {},
   "outputs": [],
   "source": []
  },
  {
   "cell_type": "code",
   "execution_count": 116,
   "metadata": {
    "id": "pUaEfx6PswwG",
    "outputId": "ac0a06a1-8197-49ff-a662-1dac2f1a916a"
   },
   "outputs": [],
   "source": [
    "#.T does some pivoting or TRANSPOSE"
   ]
  },
  {
   "cell_type": "code",
   "execution_count": null,
   "metadata": {
    "id": "Yg8qx-2EswwG",
    "outputId": "fd9bed87-0e4c-4b3d-de4b-38d837c44845",
    "scrolled": true
   },
   "outputs": [],
   "source": []
  },
  {
   "cell_type": "code",
   "execution_count": null,
   "metadata": {},
   "outputs": [],
   "source": []
  },
  {
   "cell_type": "code",
   "execution_count": null,
   "metadata": {
    "id": "GDx3630yswwG"
   },
   "outputs": [],
   "source": []
  },
  {
   "cell_type": "markdown",
   "metadata": {
    "id": "4631iuc7swwH"
   },
   "source": [
    "### Now You:\n",
    "What is the mean miles per gallon for each cylinder size?"
   ]
  },
  {
   "cell_type": "code",
   "execution_count": 118,
   "metadata": {
    "id": "qvIKiiI8swwH"
   },
   "outputs": [],
   "source": [
    "#----------------------------\n"
   ]
  },
  {
   "cell_type": "code",
   "execution_count": null,
   "metadata": {},
   "outputs": [],
   "source": []
  },
  {
   "cell_type": "code",
   "execution_count": null,
   "metadata": {},
   "outputs": [],
   "source": []
  },
  {
   "cell_type": "code",
   "execution_count": null,
   "metadata": {
    "id": "S2S_0GJ3swwH",
    "outputId": "24b561e9-173f-4ff8-c570-aa5dc81b19e8"
   },
   "outputs": [],
   "source": []
  },
  {
   "cell_type": "markdown",
   "metadata": {
    "id": "SsmyIRjzswwH"
   },
   "source": [
    "First snippet **cars.groupby('cyl').mean()['mpg']**:\n",
    "\n",
    "This code groups the DataFrame cars by the column 'cyl', calculates the mean of all numeric columns for each group, and then selects the 'mpg' column to show the mean values of miles per gallon (mpg) for each group.\n",
    "Essentially, it computes the mean of all columns first and then extracts the 'mpg' column from the result.\n",
    "\n",
    "\n",
    "Second snippet **cars.groupby('cyl')['mpg'].mean()**:\n",
    "\n",
    "This code groups the DataFrame cars by the column 'cyl' and directly selects the 'mpg' column. It then calculates the mean of the 'mpg' values for each group.\n",
    "This is a more direct approach, as it only calculates the mean for the 'mpg' column without calculating the mean for other numeric columns.\n",
    "\n",
    "Key Difference:\n",
    "- First snippet: Computes the mean for all numeric columns first and then selects 'mpg'.\n",
    "- Second snippet: Directly computes the mean for the 'mpg' column without calculating the mean for other columns.\n",
    "\n",
    "Both snippets ultimately provide the same result for 'mpg', but the first one does more work by calculating the mean for other numeric columns, even if you're only interested in 'mpg'. The second approach is more efficient if you only need the mean of one column."
   ]
  },
  {
   "cell_type": "code",
   "execution_count": 87,
   "metadata": {
    "id": "vpiLuSs-swwI"
   },
   "outputs": [],
   "source": [
    "# class stop-----------------------------------"
   ]
  },
  {
   "cell_type": "markdown",
   "metadata": {
    "id": "OMF1a24pswwI"
   },
   "source": [
    "## Adding, Dropping, Renaming, and `inplace` Methods"
   ]
  },
  {
   "cell_type": "code",
   "execution_count": 123,
   "metadata": {
    "id": "lb3x0FEiswwI",
    "outputId": "36abcb34-21d3-4702-dfe4-5185d990967e"
   },
   "outputs": [],
   "source": [
    "# Adding a column is easy, just define it!\n",
    "# What if I wanted km per gal instead of miles per gal?\n"
   ]
  },
  {
   "cell_type": "code",
   "execution_count": null,
   "metadata": {
    "id": "_45PZB4QswwI"
   },
   "outputs": [],
   "source": []
  },
  {
   "cell_type": "code",
   "execution_count": 125,
   "metadata": {
    "id": "AX_Q_6aNswwI"
   },
   "outputs": [],
   "source": [
    "# Oops - that actually doesn't make sense since they'd be using liters anyway.\n",
    "# Let's drop it.\n"
   ]
  },
  {
   "cell_type": "code",
   "execution_count": null,
   "metadata": {
    "id": "PsRedsZHswwJ"
   },
   "outputs": [],
   "source": [
    "# But... it's not gone?"
   ]
  },
  {
   "cell_type": "code",
   "execution_count": 127,
   "metadata": {
    "id": "Xi3IyeAMswwJ",
    "outputId": "3b79d631-a6dd-4d79-80af-8f4c7f3708e9"
   },
   "outputs": [],
   "source": [
    "#we didnt actually delete the kmpg column... we didnt access memory"
   ]
  },
  {
   "cell_type": "code",
   "execution_count": null,
   "metadata": {
    "id": "0CD5Mw-kswwJ"
   },
   "outputs": [],
   "source": []
  },
  {
   "cell_type": "code",
   "execution_count": null,
   "metadata": {
    "id": "w538Vk90swwJ"
   },
   "outputs": [],
   "source": []
  },
  {
   "cell_type": "markdown",
   "metadata": {
    "id": "13pc81JYswwJ"
   },
   "source": [
    "###  Inplace Methods!\n",
    "There are several methods in pandas that don't \"stick\" unless you tell them to. These methods will always have `inplace=False` by default. If you want to run a method and have it \"stick\" - assign `inplace=True`.\n",
    "\n",
    "For example...\n",
    "\n",
    "### Renaming Columns"
   ]
  },
  {
   "cell_type": "code",
   "execution_count": 33,
   "metadata": {
    "id": "keSrTFr2swwJ"
   },
   "outputs": [
    {
     "data": {
      "text/html": [
       "<div>\n",
       "<style scoped>\n",
       "    .dataframe tbody tr th:only-of-type {\n",
       "        vertical-align: middle;\n",
       "    }\n",
       "\n",
       "    .dataframe tbody tr th {\n",
       "        vertical-align: top;\n",
       "    }\n",
       "\n",
       "    .dataframe thead th {\n",
       "        text-align: right;\n",
       "    }\n",
       "</style>\n",
       "<table border=\"1\" class=\"dataframe\">\n",
       "  <thead>\n",
       "    <tr style=\"text-align: right;\">\n",
       "      <th></th>\n",
       "      <th>City</th>\n",
       "      <th>Colors Reported</th>\n",
       "      <th>Shape Reported</th>\n",
       "      <th>State</th>\n",
       "      <th>Time</th>\n",
       "    </tr>\n",
       "  </thead>\n",
       "  <tbody>\n",
       "    <tr>\n",
       "      <th>0</th>\n",
       "      <td>Ithaca</td>\n",
       "      <td>NaN</td>\n",
       "      <td>TRIANGLE</td>\n",
       "      <td>NY</td>\n",
       "      <td>6/1/1930 22:00</td>\n",
       "    </tr>\n",
       "    <tr>\n",
       "      <th>1</th>\n",
       "      <td>Willingboro</td>\n",
       "      <td>NaN</td>\n",
       "      <td>OTHER</td>\n",
       "      <td>NJ</td>\n",
       "      <td>6/30/1930 20:00</td>\n",
       "    </tr>\n",
       "    <tr>\n",
       "      <th>2</th>\n",
       "      <td>Holyoke</td>\n",
       "      <td>NaN</td>\n",
       "      <td>OVAL</td>\n",
       "      <td>CO</td>\n",
       "      <td>2/15/1931 14:00</td>\n",
       "    </tr>\n",
       "    <tr>\n",
       "      <th>3</th>\n",
       "      <td>Abilene</td>\n",
       "      <td>NaN</td>\n",
       "      <td>DISK</td>\n",
       "      <td>KS</td>\n",
       "      <td>6/1/1931 13:00</td>\n",
       "    </tr>\n",
       "    <tr>\n",
       "      <th>4</th>\n",
       "      <td>New York Worlds Fair</td>\n",
       "      <td>NaN</td>\n",
       "      <td>LIGHT</td>\n",
       "      <td>NY</td>\n",
       "      <td>4/18/1933 19:00</td>\n",
       "    </tr>\n",
       "  </tbody>\n",
       "</table>\n",
       "</div>"
      ],
      "text/plain": [
       "                   City Colors Reported Shape Reported State             Time\n",
       "0                Ithaca             NaN       TRIANGLE    NY   6/1/1930 22:00\n",
       "1           Willingboro             NaN          OTHER    NJ  6/30/1930 20:00\n",
       "2               Holyoke             NaN           OVAL    CO  2/15/1931 14:00\n",
       "3               Abilene             NaN           DISK    KS   6/1/1931 13:00\n",
       "4  New York Worlds Fair             NaN          LIGHT    NY  4/18/1933 19:00"
      ]
     },
     "execution_count": 33,
     "metadata": {},
     "output_type": "execute_result"
    }
   ],
   "source": [
    "# Yuck - I hate spaces and capital letters\n",
    "ufo.head()"
   ]
  },
  {
   "cell_type": "code",
   "execution_count": null,
   "metadata": {
    "id": "6RcYOPE1swwJ"
   },
   "outputs": [],
   "source": [
    "# Lowercaseifying is easy:\n",
    "# The \"columns\" attribute of a DataFrame works just like a numpy array or Series."
   ]
  },
  {
   "cell_type": "code",
   "execution_count": null,
   "metadata": {
    "id": "gsbB-7EfswwJ"
   },
   "outputs": [],
   "source": [
    "ufo.columns = ufo.columns.str.lower()"
   ]
  },
  {
   "cell_type": "code",
   "execution_count": null,
   "metadata": {
    "id": "TuLAMCnPswwJ",
    "outputId": "aecf557d-4136-4298-b50d-8aa83836110f"
   },
   "outputs": [
    {
     "data": {
      "text/plain": [
       "Index(['city', 'colors reported', 'shape reported', 'state', 'time'], dtype='object')"
      ]
     },
     "execution_count": 145,
     "metadata": {},
     "output_type": "execute_result"
    }
   ],
   "source": [
    "ufo.columns"
   ]
  },
  {
   "cell_type": "code",
   "execution_count": null,
   "metadata": {
    "id": "6QeFPQneswwJ"
   },
   "outputs": [],
   "source": [
    "# The .rename method"
   ]
  },
  {
   "cell_type": "code",
   "execution_count": null,
   "metadata": {
    "id": "EPqHdPpMswwJ"
   },
   "outputs": [],
   "source": [
    "ufo.rename(columns = {\n",
    "    'colors reported' : 'colors',\n",
    "    'shape reported' : 'shape'\n",
    "}, inplace=True)\n",
    "#inplace means 'Save my work'\n",
    "#specify columns and the change the columns name you want to do..once you see the correct output set the 'inplace=True'"
   ]
  },
  {
   "cell_type": "code",
   "execution_count": null,
   "metadata": {
    "id": "8447_fMCswwK"
   },
   "outputs": [],
   "source": []
  },
  {
   "cell_type": "markdown",
   "metadata": {
    "id": "xz-w3lAoswwK"
   },
   "source": [
    "### Aside: `str` and `dt` methods\n",
    "There are a lot of familiar string and date operations we can perform on columns. Strangely, they exist within a pandas submodule and so have to be prefixed with `str` and `dt` respectively."
   ]
  },
  {
   "cell_type": "code",
   "execution_count": null,
   "metadata": {
    "id": "Ufw88nkeswwK",
    "outputId": "fcfc9ac8-ce65-4856-e49a-d55dfed85433"
   },
   "outputs": [
    {
     "data": {
      "text/plain": [
       "0    triangle\n",
       "1       other\n",
       "2        oval\n",
       "3        disk\n",
       "4       light\n",
       "Name: shape, dtype: object"
      ]
     },
     "execution_count": 170,
     "metadata": {},
     "output_type": "execute_result"
    }
   ],
   "source": [
    "ufo['shape'].str.lower().head()"
   ]
  },
  {
   "cell_type": "code",
   "execution_count": null,
   "metadata": {
    "id": "mM_DIqQ8swwK",
    "outputId": "5d6db0e2-f7a3-4604-9a75-3df834268a03"
   },
   "outputs": [
    {
     "data": {
      "text/plain": [
       "0    TRIANGLE\n",
       "1     BROTHER\n",
       "2      BROVAL\n",
       "3        DISK\n",
       "4       LIGHT\n",
       "Name: shape, dtype: object"
      ]
     },
     "execution_count": 171,
     "metadata": {},
     "output_type": "execute_result"
    }
   ],
   "source": [
    "ufo['shape'].str.replace('O', 'BRO').head()"
   ]
  },
  {
   "cell_type": "code",
   "execution_count": null,
   "metadata": {
    "id": "RjLDwJ2QswwK"
   },
   "outputs": [],
   "source": [
    "# We already did this above, but datetime variables need to be converted specially.\n",
    "# ufo['time'] = pd.to_datetime(ufo['time'])\n",
    "ufo['time'].dt.year.head()"
   ]
  },
  {
   "cell_type": "markdown",
   "metadata": {
    "id": "1bryap8vswwK"
   },
   "source": [
    "## Missing Values"
   ]
  },
  {
   "cell_type": "code",
   "execution_count": 36,
   "metadata": {
    "id": "8Jo4KnwNswwK"
   },
   "outputs": [],
   "source": [
    "s = pd.Series([5, 7, np.nan, 2, 10])"
   ]
  },
  {
   "cell_type": "code",
   "execution_count": null,
   "metadata": {
    "id": "QDe9XbbNswwK",
    "outputId": "c241cfc1-fd90-4a86-ba8e-52c40b709ffd"
   },
   "outputs": [
    {
     "data": {
      "text/plain": [
       "0     5.0\n",
       "1     7.0\n",
       "2     NaN\n",
       "3     2.0\n",
       "4    10.0\n",
       "dtype: float64"
      ]
     },
     "execution_count": 158,
     "metadata": {},
     "output_type": "execute_result"
    }
   ],
   "source": [
    "s"
   ]
  },
  {
   "cell_type": "code",
   "execution_count": null,
   "metadata": {
    "id": "OP3dOYP_swwK",
    "outputId": "200d887f-3db2-475c-b1ae-940357f4688f"
   },
   "outputs": [
    {
     "data": {
      "text/plain": [
       "0    False\n",
       "1    False\n",
       "2    False\n",
       "3    False\n",
       "4    False\n",
       "dtype: bool"
      ]
     },
     "execution_count": 159,
     "metadata": {},
     "output_type": "execute_result"
    }
   ],
   "source": [
    "# Hmm...\n",
    "s == np.nan"
   ]
  },
  {
   "cell_type": "code",
   "execution_count": null,
   "metadata": {
    "id": "y1LYRtqqswwP",
    "outputId": "6626562a-9ada-456e-896a-18c8a13d60e1"
   },
   "outputs": [
    {
     "data": {
      "text/plain": [
       "0    False\n",
       "1    False\n",
       "2     True\n",
       "3    False\n",
       "4    False\n",
       "dtype: bool"
      ]
     },
     "execution_count": 160,
     "metadata": {},
     "output_type": "execute_result"
    }
   ],
   "source": [
    "s.isnull()"
   ]
  },
  {
   "cell_type": "code",
   "execution_count": 37,
   "metadata": {},
   "outputs": [
    {
     "data": {
      "text/plain": [
       "0     True\n",
       "1     True\n",
       "2    False\n",
       "3     True\n",
       "4     True\n",
       "dtype: bool"
      ]
     },
     "execution_count": 37,
     "metadata": {},
     "output_type": "execute_result"
    }
   ],
   "source": [
    "s.notnull()"
   ]
  },
  {
   "cell_type": "code",
   "execution_count": null,
   "metadata": {
    "id": "BzYfTfKHswwQ",
    "outputId": "6bab29e3-38e0-4d90-fe66-5685288fa512"
   },
   "outputs": [
    {
     "data": {
      "text/plain": [
       "1"
      ]
     },
     "execution_count": 161,
     "metadata": {},
     "output_type": "execute_result"
    }
   ],
   "source": [
    "s.isnull().sum()"
   ]
  },
  {
   "cell_type": "code",
   "execution_count": null,
   "metadata": {
    "id": "ho_cb4sDswwQ",
    "outputId": "1f8e668c-9159-4222-f6c3-fa01bb6a84da"
   },
   "outputs": [
    {
     "data": {
      "text/plain": [
       "city                  0\n",
       "colors            63509\n",
       "shape reported     8402\n",
       "state                 0\n",
       "time                  0\n",
       "dtype: int64"
      ]
     },
     "execution_count": 162,
     "metadata": {},
     "output_type": "execute_result"
    }
   ],
   "source": [
    "ufo.isnull().sum() #sum ftn will gives a count of the missing data "
   ]
  },
  {
   "cell_type": "code",
   "execution_count": 38,
   "metadata": {
    "id": "sXIF32QTswwQ"
   },
   "outputs": [
    {
     "data": {
      "text/html": [
       "<div>\n",
       "<style scoped>\n",
       "    .dataframe tbody tr th:only-of-type {\n",
       "        vertical-align: middle;\n",
       "    }\n",
       "\n",
       "    .dataframe tbody tr th {\n",
       "        vertical-align: top;\n",
       "    }\n",
       "\n",
       "    .dataframe thead th {\n",
       "        text-align: right;\n",
       "    }\n",
       "</style>\n",
       "<table border=\"1\" class=\"dataframe\">\n",
       "  <thead>\n",
       "    <tr style=\"text-align: right;\">\n",
       "      <th></th>\n",
       "      <th>City</th>\n",
       "      <th>Colors Reported</th>\n",
       "      <th>Shape Reported</th>\n",
       "      <th>State</th>\n",
       "      <th>Time</th>\n",
       "    </tr>\n",
       "  </thead>\n",
       "  <tbody>\n",
       "    <tr>\n",
       "      <th>0</th>\n",
       "      <td>False</td>\n",
       "      <td>True</td>\n",
       "      <td>False</td>\n",
       "      <td>False</td>\n",
       "      <td>False</td>\n",
       "    </tr>\n",
       "    <tr>\n",
       "      <th>1</th>\n",
       "      <td>False</td>\n",
       "      <td>True</td>\n",
       "      <td>False</td>\n",
       "      <td>False</td>\n",
       "      <td>False</td>\n",
       "    </tr>\n",
       "    <tr>\n",
       "      <th>2</th>\n",
       "      <td>False</td>\n",
       "      <td>True</td>\n",
       "      <td>False</td>\n",
       "      <td>False</td>\n",
       "      <td>False</td>\n",
       "    </tr>\n",
       "    <tr>\n",
       "      <th>3</th>\n",
       "      <td>False</td>\n",
       "      <td>True</td>\n",
       "      <td>False</td>\n",
       "      <td>False</td>\n",
       "      <td>False</td>\n",
       "    </tr>\n",
       "    <tr>\n",
       "      <th>4</th>\n",
       "      <td>False</td>\n",
       "      <td>True</td>\n",
       "      <td>False</td>\n",
       "      <td>False</td>\n",
       "      <td>False</td>\n",
       "    </tr>\n",
       "  </tbody>\n",
       "</table>\n",
       "</div>"
      ],
      "text/plain": [
       "    City  Colors Reported  Shape Reported  State   Time\n",
       "0  False             True           False  False  False\n",
       "1  False             True           False  False  False\n",
       "2  False             True           False  False  False\n",
       "3  False             True           False  False  False\n",
       "4  False             True           False  False  False"
      ]
     },
     "execution_count": 38,
     "metadata": {},
     "output_type": "execute_result"
    }
   ],
   "source": [
    "ufo.isnull().head()"
   ]
  },
  {
   "cell_type": "code",
   "execution_count": null,
   "metadata": {
    "id": "vszX9abyswwQ"
   },
   "outputs": [],
   "source": [
    "#on the oppposite end"
   ]
  },
  {
   "cell_type": "code",
   "execution_count": null,
   "metadata": {
    "id": "BoB2oQloswwQ",
    "outputId": "78ddaa5f-d110-46fc-89d7-50465b4b0eff"
   },
   "outputs": [
    {
     "data": {
      "text/plain": [
       "city              80543\n",
       "colors            17034\n",
       "shape reported    72141\n",
       "state             80543\n",
       "time              80543\n",
       "dtype: int64"
      ]
     },
     "execution_count": 163,
     "metadata": {},
     "output_type": "execute_result"
    }
   ],
   "source": [
    "ufo.notnull().sum()"
   ]
  },
  {
   "cell_type": "code",
   "execution_count": null,
   "metadata": {
    "id": "pYNBlH2aswwQ",
    "outputId": "92c52c1f-a1a2-4c8e-b787-93d4948248ac"
   },
   "outputs": [
    {
     "data": {
      "text/plain": [
       "city                  0\n",
       "colors            63509\n",
       "shape reported     8402\n",
       "state                 0\n",
       "time                  0\n",
       "dtype: int64"
      ]
     },
     "execution_count": 164,
     "metadata": {},
     "output_type": "execute_result"
    }
   ],
   "source": [
    "ufo.isna().sum()"
   ]
  },
  {
   "cell_type": "code",
   "execution_count": null,
   "metadata": {
    "id": "QOK0gOKaswwQ",
    "outputId": "d6cec87e-88aa-4a0d-ad5f-052826038229"
   },
   "outputs": [
    {
     "data": {
      "text/plain": [
       "city              0.000000\n",
       "colors            0.788510\n",
       "shape reported    0.104317\n",
       "state             0.000000\n",
       "time              0.000000\n",
       "dtype: float64"
      ]
     },
     "execution_count": 165,
     "metadata": {},
     "output_type": "execute_result"
    }
   ],
   "source": [
    "ufo.isna().mean()"
   ]
  },
  {
   "cell_type": "code",
   "execution_count": null,
   "metadata": {
    "id": "CU3TVSN1swwQ",
    "outputId": "4a488845-dcb1-4946-9bc3-0ed4af2166c5"
   },
   "outputs": [
    {
     "data": {
      "text/html": [
       "<div>\n",
       "<style scoped>\n",
       "    .dataframe tbody tr th:only-of-type {\n",
       "        vertical-align: middle;\n",
       "    }\n",
       "\n",
       "    .dataframe tbody tr th {\n",
       "        vertical-align: top;\n",
       "    }\n",
       "\n",
       "    .dataframe thead th {\n",
       "        text-align: right;\n",
       "    }\n",
       "</style>\n",
       "<table border=\"1\" class=\"dataframe\">\n",
       "  <thead>\n",
       "    <tr style=\"text-align: right;\">\n",
       "      <th></th>\n",
       "      <th>city</th>\n",
       "      <th>colors</th>\n",
       "      <th>shape reported</th>\n",
       "      <th>state</th>\n",
       "      <th>time</th>\n",
       "    </tr>\n",
       "  </thead>\n",
       "  <tbody>\n",
       "    <tr>\n",
       "      <th>12</th>\n",
       "      <td>Belton</td>\n",
       "      <td>RED</td>\n",
       "      <td>SPHERE</td>\n",
       "      <td>SC</td>\n",
       "      <td>1939-06-30 20:00:00</td>\n",
       "    </tr>\n",
       "    <tr>\n",
       "      <th>19</th>\n",
       "      <td>Bering Sea</td>\n",
       "      <td>RED</td>\n",
       "      <td>OTHER</td>\n",
       "      <td>AK</td>\n",
       "      <td>1943-04-30 23:00:00</td>\n",
       "    </tr>\n",
       "    <tr>\n",
       "      <th>36</th>\n",
       "      <td>Portsmouth</td>\n",
       "      <td>RED</td>\n",
       "      <td>FORMATION</td>\n",
       "      <td>VA</td>\n",
       "      <td>1945-07-10 01:30:00</td>\n",
       "    </tr>\n",
       "    <tr>\n",
       "      <th>44</th>\n",
       "      <td>Blairsden</td>\n",
       "      <td>GREEN</td>\n",
       "      <td>SPHERE</td>\n",
       "      <td>CA</td>\n",
       "      <td>1946-06-30 19:00:00</td>\n",
       "    </tr>\n",
       "    <tr>\n",
       "      <th>66</th>\n",
       "      <td>Wexford</td>\n",
       "      <td>BLUE</td>\n",
       "      <td>NaN</td>\n",
       "      <td>PA</td>\n",
       "      <td>1947-07-01 20:00:00</td>\n",
       "    </tr>\n",
       "  </tbody>\n",
       "</table>\n",
       "</div>"
      ],
      "text/plain": [
       "          city colors shape reported state                time\n",
       "12      Belton    RED         SPHERE    SC 1939-06-30 20:00:00\n",
       "19  Bering Sea    RED          OTHER    AK 1943-04-30 23:00:00\n",
       "36  Portsmouth    RED      FORMATION    VA 1945-07-10 01:30:00\n",
       "44   Blairsden  GREEN         SPHERE    CA 1946-06-30 19:00:00\n",
       "66     Wexford   BLUE            NaN    PA 1947-07-01 20:00:00"
      ]
     },
     "execution_count": 167,
     "metadata": {},
     "output_type": "execute_result"
    }
   ],
   "source": [
    "# Easy way to filter out missings!\n",
    "ufo.loc[ufo['colors'].notnull(),:].head()"
   ]
  },
  {
   "cell_type": "markdown",
   "metadata": {
    "id": "qx2varfKswwQ",
    "jp-MarkdownHeadingCollapsed": true
   },
   "source": [
    "## Exporting Data\n",
    "We can read data, but how do we save it so we can send it out? pandas has several methods of the form `.to_*()`."
   ]
  },
  {
   "cell_type": "code",
   "execution_count": null,
   "metadata": {
    "id": "wQJbweH4swwR"
   },
   "outputs": [],
   "source": [
    "ufo.to_csv('ufo.csv')"
   ]
  },
  {
   "cell_type": "markdown",
   "metadata": {
    "id": "6LTkD_APswwR"
   },
   "source": [
    "<a id='review'></a>\n",
    "\n",
    "### Review\n",
    "\n",
    "---\n",
    "\n",
    " - What would we do with a dataset when we first acquire it?\n",
    " - What's important to consider when first looking at a dataset?\n",
    " - What are some common problems we can run into with new data?\n",
    " - What are some common operations with DataFrames?\n",
    " - How do we slice? Index? Filter?"
   ]
  },
  {
   "cell_type": "markdown",
   "metadata": {
    "id": "-tZbtQjQswwS"
   },
   "source": [
    "# EXTRA MATERIALS\n",
    "![](assets/biohazard.png)\n",
    "Everything that follows is considered advanced or \"too much\" for our first session with pandas, and may not be explicitly covered by the instructor. If the instructor _does_ cover it, please don't worry that you don't understand this on your first pass.\n",
    "\n",
    "**THAT DOES NOT MEAN THESE TOPICS ARE UNIMPORTANT OR RARELY USED!** We highly _highly_ recommend you take a look at these on your own time."
   ]
  },
  {
   "cell_type": "markdown",
   "metadata": {
    "id": "8kvV-Ap1swwS"
   },
   "source": [
    "### Merging"
   ]
  },
  {
   "cell_type": "code",
   "execution_count": null,
   "metadata": {
    "id": "0KcX1DmAswwS",
    "outputId": "f34e8c33-2894-4263-ab47-fa7b205984c1"
   },
   "outputs": [
    {
     "data": {
      "text/html": [
       "<div>\n",
       "<style scoped>\n",
       "    .dataframe tbody tr th:only-of-type {\n",
       "        vertical-align: middle;\n",
       "    }\n",
       "\n",
       "    .dataframe tbody tr th {\n",
       "        vertical-align: top;\n",
       "    }\n",
       "\n",
       "    .dataframe thead th {\n",
       "        text-align: right;\n",
       "    }\n",
       "</style>\n",
       "<table border=\"1\" class=\"dataframe\">\n",
       "  <thead>\n",
       "    <tr style=\"text-align: right;\">\n",
       "      <th></th>\n",
       "      <th>movie_id</th>\n",
       "      <th>title</th>\n",
       "    </tr>\n",
       "  </thead>\n",
       "  <tbody>\n",
       "    <tr>\n",
       "      <th>0</th>\n",
       "      <td>1</td>\n",
       "      <td>Toy Story (1995)</td>\n",
       "    </tr>\n",
       "    <tr>\n",
       "      <th>1</th>\n",
       "      <td>2</td>\n",
       "      <td>GoldenEye (1995)</td>\n",
       "    </tr>\n",
       "    <tr>\n",
       "      <th>2</th>\n",
       "      <td>3</td>\n",
       "      <td>Four Rooms (1995)</td>\n",
       "    </tr>\n",
       "    <tr>\n",
       "      <th>3</th>\n",
       "      <td>4</td>\n",
       "      <td>Get Shorty (1995)</td>\n",
       "    </tr>\n",
       "    <tr>\n",
       "      <th>4</th>\n",
       "      <td>5</td>\n",
       "      <td>Copycat (1995)</td>\n",
       "    </tr>\n",
       "  </tbody>\n",
       "</table>\n",
       "</div>"
      ],
      "text/plain": [
       "   movie_id              title\n",
       "0         1   Toy Story (1995)\n",
       "1         2   GoldenEye (1995)\n",
       "2         3  Four Rooms (1995)\n",
       "3         4  Get Shorty (1995)\n",
       "4         5     Copycat (1995)"
      ]
     },
     "execution_count": 3,
     "metadata": {},
     "output_type": "execute_result"
    }
   ],
   "source": [
    "movies = pd.read_csv(\n",
    "    'datasets/movies.tbl',\n",
    "    sep='|',\n",
    "    encoding='latin1',\n",
    "    header=None,\n",
    "    names=['movie_id', 'title'],\n",
    "    usecols=[0, 1]\n",
    ")\n",
    "movies.head()"
   ]
  },
  {
   "cell_type": "code",
   "execution_count": null,
   "metadata": {
    "id": "R0BJq6DyswwS",
    "outputId": "db58d7cd-84f6-42da-d756-1ef8657b200a"
   },
   "outputs": [
    {
     "name": "stdout",
     "output_type": "stream",
     "text": [
      "Hello\n"
     ]
    }
   ],
   "source": [
    "print('Hello')"
   ]
  },
  {
   "cell_type": "code",
   "execution_count": null,
   "metadata": {
    "id": "f0i2-ihdswwS",
    "outputId": "0bcaab83-13e2-4d73-ba68-9216868d514d"
   },
   "outputs": [
    {
     "data": {
      "text/html": [
       "<div>\n",
       "<style scoped>\n",
       "    .dataframe tbody tr th:only-of-type {\n",
       "        vertical-align: middle;\n",
       "    }\n",
       "\n",
       "    .dataframe tbody tr th {\n",
       "        vertical-align: top;\n",
       "    }\n",
       "\n",
       "    .dataframe thead th {\n",
       "        text-align: right;\n",
       "    }\n",
       "</style>\n",
       "<table border=\"1\" class=\"dataframe\">\n",
       "  <thead>\n",
       "    <tr style=\"text-align: right;\">\n",
       "      <th></th>\n",
       "      <th>user_id</th>\n",
       "      <th>movie_id</th>\n",
       "      <th>rating</th>\n",
       "      <th>timestampzz</th>\n",
       "    </tr>\n",
       "  </thead>\n",
       "  <tbody>\n",
       "    <tr>\n",
       "      <th>0</th>\n",
       "      <td>196</td>\n",
       "      <td>242</td>\n",
       "      <td>3</td>\n",
       "      <td>881250949</td>\n",
       "    </tr>\n",
       "    <tr>\n",
       "      <th>1</th>\n",
       "      <td>186</td>\n",
       "      <td>302</td>\n",
       "      <td>3</td>\n",
       "      <td>891717742</td>\n",
       "    </tr>\n",
       "    <tr>\n",
       "      <th>2</th>\n",
       "      <td>22</td>\n",
       "      <td>377</td>\n",
       "      <td>1</td>\n",
       "      <td>878887116</td>\n",
       "    </tr>\n",
       "    <tr>\n",
       "      <th>3</th>\n",
       "      <td>244</td>\n",
       "      <td>51</td>\n",
       "      <td>2</td>\n",
       "      <td>880606923</td>\n",
       "    </tr>\n",
       "    <tr>\n",
       "      <th>4</th>\n",
       "      <td>166</td>\n",
       "      <td>346</td>\n",
       "      <td>1</td>\n",
       "      <td>886397596</td>\n",
       "    </tr>\n",
       "  </tbody>\n",
       "</table>\n",
       "</div>"
      ],
      "text/plain": [
       "   user_id  movie_id  rating  timestampzz\n",
       "0      196       242       3    881250949\n",
       "1      186       302       3    891717742\n",
       "2       22       377       1    878887116\n",
       "3      244        51       2    880606923\n",
       "4      166       346       1    886397596"
      ]
     },
     "execution_count": 37,
     "metadata": {},
     "output_type": "execute_result"
    }
   ],
   "source": [
    "ratings = pd.read_csv(\n",
    "    'datasets/movie_ratings.tsv',\n",
    "    sep='\\t',    # \\t represents a tab\n",
    "    header=None,\n",
    "    names=['user_id', 'movie_id', 'rating', 'timestampzz']  #naming the headers from lef tto right ordered this way\n",
    ")\n",
    "ratings.head()"
   ]
  },
  {
   "cell_type": "code",
   "execution_count": null,
   "metadata": {
    "id": "1fx1W3T0swwS",
    "outputId": "401792b7-5503-492d-adfd-af4fe23eee72"
   },
   "outputs": [
    {
     "data": {
      "text/html": [
       "<div>\n",
       "<style scoped>\n",
       "    .dataframe tbody tr th:only-of-type {\n",
       "        vertical-align: middle;\n",
       "    }\n",
       "\n",
       "    .dataframe tbody tr th {\n",
       "        vertical-align: top;\n",
       "    }\n",
       "\n",
       "    .dataframe thead th {\n",
       "        text-align: right;\n",
       "    }\n",
       "</style>\n",
       "<table border=\"1\" class=\"dataframe\">\n",
       "  <thead>\n",
       "    <tr style=\"text-align: right;\">\n",
       "      <th></th>\n",
       "      <th>user_id</th>\n",
       "      <th>movie_id</th>\n",
       "      <th>rating</th>\n",
       "      <th>timestampzz</th>\n",
       "      <th>title</th>\n",
       "    </tr>\n",
       "  </thead>\n",
       "  <tbody>\n",
       "    <tr>\n",
       "      <th>0</th>\n",
       "      <td>196</td>\n",
       "      <td>242</td>\n",
       "      <td>3</td>\n",
       "      <td>881250949</td>\n",
       "      <td>Kolya (1996)</td>\n",
       "    </tr>\n",
       "    <tr>\n",
       "      <th>1</th>\n",
       "      <td>186</td>\n",
       "      <td>302</td>\n",
       "      <td>3</td>\n",
       "      <td>891717742</td>\n",
       "      <td>L.A. Confidential (1997)</td>\n",
       "    </tr>\n",
       "    <tr>\n",
       "      <th>2</th>\n",
       "      <td>22</td>\n",
       "      <td>377</td>\n",
       "      <td>1</td>\n",
       "      <td>878887116</td>\n",
       "      <td>Heavyweights (1994)</td>\n",
       "    </tr>\n",
       "    <tr>\n",
       "      <th>3</th>\n",
       "      <td>244</td>\n",
       "      <td>51</td>\n",
       "      <td>2</td>\n",
       "      <td>880606923</td>\n",
       "      <td>Legends of the Fall (1994)</td>\n",
       "    </tr>\n",
       "    <tr>\n",
       "      <th>4</th>\n",
       "      <td>166</td>\n",
       "      <td>346</td>\n",
       "      <td>1</td>\n",
       "      <td>886397596</td>\n",
       "      <td>Jackie Brown (1997)</td>\n",
       "    </tr>\n",
       "  </tbody>\n",
       "</table>\n",
       "</div>"
      ],
      "text/plain": [
       "   user_id  movie_id  rating  timestampzz                       title\n",
       "0      196       242       3    881250949                Kolya (1996)\n",
       "1      186       302       3    891717742    L.A. Confidential (1997)\n",
       "2       22       377       1    878887116         Heavyweights (1994)\n",
       "3      244        51       2    880606923  Legends of the Fall (1994)\n",
       "4      166       346       1    886397596         Jackie Brown (1997)"
      ]
     },
     "execution_count": 42,
     "metadata": {},
     "output_type": "execute_result"
    }
   ],
   "source": [
    "movie_reviews = pd.merge(ratings, movies, how='left')\n",
    "movie_reviews.head()"
   ]
  },
  {
   "cell_type": "code",
   "execution_count": null,
   "metadata": {
    "id": "1B-dICqYswwS",
    "outputId": "edcdf603-b69f-405b-82bb-77c725d366ea"
   },
   "outputs": [
    {
     "name": "stdout",
     "output_type": "stream",
     "text": [
      "(1682, 2)\n",
      "(100000, 4)\n",
      "(100000, 5)\n"
     ]
    }
   ],
   "source": [
    "print(movies.shape)\n",
    "print(ratings.shape)\n",
    "print(movie_reviews.shape)"
   ]
  },
  {
   "cell_type": "code",
   "execution_count": null,
   "metadata": {
    "id": "CeDDrMSWswwS",
    "outputId": "0c2b70b8-aa1a-4202-cfdf-3492ce9496ec"
   },
   "outputs": [
    {
     "data": {
      "text/html": [
       "<div>\n",
       "<style scoped>\n",
       "    .dataframe tbody tr th:only-of-type {\n",
       "        vertical-align: middle;\n",
       "    }\n",
       "\n",
       "    .dataframe tbody tr th {\n",
       "        vertical-align: top;\n",
       "    }\n",
       "\n",
       "    .dataframe thead th {\n",
       "        text-align: right;\n",
       "    }\n",
       "</style>\n",
       "<table border=\"1\" class=\"dataframe\">\n",
       "  <thead>\n",
       "    <tr style=\"text-align: right;\">\n",
       "      <th></th>\n",
       "      <th>user_id</th>\n",
       "      <th>movie_id</th>\n",
       "      <th>rating</th>\n",
       "      <th>timestampzz</th>\n",
       "      <th>title</th>\n",
       "    </tr>\n",
       "  </thead>\n",
       "  <tbody>\n",
       "    <tr>\n",
       "      <th>0</th>\n",
       "      <td>196</td>\n",
       "      <td>242</td>\n",
       "      <td>3</td>\n",
       "      <td>881250949</td>\n",
       "      <td>Kolya (1996)</td>\n",
       "    </tr>\n",
       "    <tr>\n",
       "      <th>1</th>\n",
       "      <td>186</td>\n",
       "      <td>302</td>\n",
       "      <td>3</td>\n",
       "      <td>891717742</td>\n",
       "      <td>L.A. Confidential (1997)</td>\n",
       "    </tr>\n",
       "    <tr>\n",
       "      <th>2</th>\n",
       "      <td>22</td>\n",
       "      <td>377</td>\n",
       "      <td>1</td>\n",
       "      <td>878887116</td>\n",
       "      <td>Heavyweights (1994)</td>\n",
       "    </tr>\n",
       "    <tr>\n",
       "      <th>3</th>\n",
       "      <td>244</td>\n",
       "      <td>51</td>\n",
       "      <td>2</td>\n",
       "      <td>880606923</td>\n",
       "      <td>Legends of the Fall (1994)</td>\n",
       "    </tr>\n",
       "    <tr>\n",
       "      <th>4</th>\n",
       "      <td>166</td>\n",
       "      <td>346</td>\n",
       "      <td>1</td>\n",
       "      <td>886397596</td>\n",
       "      <td>Jackie Brown (1997)</td>\n",
       "    </tr>\n",
       "  </tbody>\n",
       "</table>\n",
       "</div>"
      ],
      "text/plain": [
       "   user_id  movie_id  rating  timestampzz                       title\n",
       "0      196       242       3    881250949                Kolya (1996)\n",
       "1      186       302       3    891717742    L.A. Confidential (1997)\n",
       "2       22       377       1    878887116         Heavyweights (1994)\n",
       "3      244        51       2    880606923  Legends of the Fall (1994)\n",
       "4      166       346       1    886397596         Jackie Brown (1997)"
      ]
     },
     "execution_count": 47,
     "metadata": {},
     "output_type": "execute_result"
    }
   ],
   "source": [
    "movie_reviews1 = pd.merge(ratings, movies, how='inner')\n",
    "movie_reviews.head()"
   ]
  },
  {
   "cell_type": "markdown",
   "metadata": {
    "id": "JSg3MYWQswwT",
    "jp-MarkdownHeadingCollapsed": true
   },
   "source": [
    "### \"Categorical\" Variables\n",
    "Despite the name, when pandas says \"Categorical\", they really mean \"Ordinal\" - that is, ordered categories.\n",
    "\n",
    "For example, check out the following crosstab:"
   ]
  },
  {
   "cell_type": "code",
   "execution_count": null,
   "metadata": {
    "id": "0ahH1pvAswwT",
    "outputId": "7d5f436d-b0e3-42f8-d4d6-1e35b6192260"
   },
   "outputs": [
    {
     "data": {
      "text/html": [
       "<div>\n",
       "<style scoped>\n",
       "    .dataframe tbody tr th:only-of-type {\n",
       "        vertical-align: middle;\n",
       "    }\n",
       "\n",
       "    .dataframe tbody tr th {\n",
       "        vertical-align: top;\n",
       "    }\n",
       "\n",
       "    .dataframe thead th {\n",
       "        text-align: right;\n",
       "    }\n",
       "</style>\n",
       "<table border=\"1\" class=\"dataframe\">\n",
       "  <thead>\n",
       "    <tr style=\"text-align: right;\">\n",
       "      <th></th>\n",
       "      <th>carat</th>\n",
       "      <th>cut</th>\n",
       "      <th>color</th>\n",
       "      <th>clarity</th>\n",
       "      <th>depth</th>\n",
       "      <th>table</th>\n",
       "      <th>price</th>\n",
       "      <th>x</th>\n",
       "      <th>y</th>\n",
       "      <th>z</th>\n",
       "    </tr>\n",
       "  </thead>\n",
       "  <tbody>\n",
       "    <tr>\n",
       "      <th>0</th>\n",
       "      <td>0.23</td>\n",
       "      <td>Ideal</td>\n",
       "      <td>E</td>\n",
       "      <td>SI2</td>\n",
       "      <td>61.5</td>\n",
       "      <td>55.0</td>\n",
       "      <td>326</td>\n",
       "      <td>3.95</td>\n",
       "      <td>3.98</td>\n",
       "      <td>2.43</td>\n",
       "    </tr>\n",
       "    <tr>\n",
       "      <th>1</th>\n",
       "      <td>0.21</td>\n",
       "      <td>Premium</td>\n",
       "      <td>E</td>\n",
       "      <td>SI1</td>\n",
       "      <td>59.8</td>\n",
       "      <td>61.0</td>\n",
       "      <td>326</td>\n",
       "      <td>3.89</td>\n",
       "      <td>3.84</td>\n",
       "      <td>2.31</td>\n",
       "    </tr>\n",
       "    <tr>\n",
       "      <th>2</th>\n",
       "      <td>0.23</td>\n",
       "      <td>Good</td>\n",
       "      <td>E</td>\n",
       "      <td>VS1</td>\n",
       "      <td>56.9</td>\n",
       "      <td>65.0</td>\n",
       "      <td>327</td>\n",
       "      <td>4.05</td>\n",
       "      <td>4.07</td>\n",
       "      <td>2.31</td>\n",
       "    </tr>\n",
       "    <tr>\n",
       "      <th>3</th>\n",
       "      <td>0.29</td>\n",
       "      <td>Premium</td>\n",
       "      <td>I</td>\n",
       "      <td>VS2</td>\n",
       "      <td>62.4</td>\n",
       "      <td>58.0</td>\n",
       "      <td>334</td>\n",
       "      <td>4.20</td>\n",
       "      <td>4.23</td>\n",
       "      <td>2.63</td>\n",
       "    </tr>\n",
       "    <tr>\n",
       "      <th>4</th>\n",
       "      <td>0.31</td>\n",
       "      <td>Good</td>\n",
       "      <td>J</td>\n",
       "      <td>SI2</td>\n",
       "      <td>63.3</td>\n",
       "      <td>58.0</td>\n",
       "      <td>335</td>\n",
       "      <td>4.34</td>\n",
       "      <td>4.35</td>\n",
       "      <td>2.75</td>\n",
       "    </tr>\n",
       "  </tbody>\n",
       "</table>\n",
       "</div>"
      ],
      "text/plain": [
       "   carat      cut color clarity  depth  table  price     x     y     z\n",
       "0   0.23    Ideal     E     SI2   61.5   55.0    326  3.95  3.98  2.43\n",
       "1   0.21  Premium     E     SI1   59.8   61.0    326  3.89  3.84  2.31\n",
       "2   0.23     Good     E     VS1   56.9   65.0    327  4.05  4.07  2.31\n",
       "3   0.29  Premium     I     VS2   62.4   58.0    334  4.20  4.23  2.63\n",
       "4   0.31     Good     J     SI2   63.3   58.0    335  4.34  4.35  2.75"
      ]
     },
     "execution_count": 50,
     "metadata": {},
     "output_type": "execute_result"
    }
   ],
   "source": [
    "diamonds = pd.read_csv('datasets/diamonds.csv')\n",
    "diamonds.head()"
   ]
  },
  {
   "cell_type": "code",
   "execution_count": null,
   "metadata": {
    "id": "T3Tgp7kbswwT"
   },
   "outputs": [],
   "source": []
  },
  {
   "cell_type": "code",
   "execution_count": null,
   "metadata": {
    "id": "WOYtJ53dswwT",
    "outputId": "b42afc2c-0692-44e6-f8e6-a61235c5fc0a"
   },
   "outputs": [
    {
     "data": {
      "text/html": [
       "<div>\n",
       "<style scoped>\n",
       "    .dataframe tbody tr th:only-of-type {\n",
       "        vertical-align: middle;\n",
       "    }\n",
       "\n",
       "    .dataframe tbody tr th {\n",
       "        vertical-align: top;\n",
       "    }\n",
       "\n",
       "    .dataframe thead th {\n",
       "        text-align: right;\n",
       "    }\n",
       "</style>\n",
       "<table border=\"1\" class=\"dataframe\">\n",
       "  <thead>\n",
       "    <tr style=\"text-align: right;\">\n",
       "      <th>color</th>\n",
       "      <th>D</th>\n",
       "      <th>E</th>\n",
       "      <th>F</th>\n",
       "      <th>G</th>\n",
       "      <th>H</th>\n",
       "      <th>I</th>\n",
       "      <th>J</th>\n",
       "    </tr>\n",
       "    <tr>\n",
       "      <th>cut</th>\n",
       "      <th></th>\n",
       "      <th></th>\n",
       "      <th></th>\n",
       "      <th></th>\n",
       "      <th></th>\n",
       "      <th></th>\n",
       "      <th></th>\n",
       "    </tr>\n",
       "  </thead>\n",
       "  <tbody>\n",
       "    <tr>\n",
       "      <th>Fair</th>\n",
       "      <td>163</td>\n",
       "      <td>224</td>\n",
       "      <td>312</td>\n",
       "      <td>314</td>\n",
       "      <td>303</td>\n",
       "      <td>175</td>\n",
       "      <td>119</td>\n",
       "    </tr>\n",
       "    <tr>\n",
       "      <th>Good</th>\n",
       "      <td>662</td>\n",
       "      <td>933</td>\n",
       "      <td>909</td>\n",
       "      <td>871</td>\n",
       "      <td>702</td>\n",
       "      <td>522</td>\n",
       "      <td>307</td>\n",
       "    </tr>\n",
       "    <tr>\n",
       "      <th>Ideal</th>\n",
       "      <td>2834</td>\n",
       "      <td>3903</td>\n",
       "      <td>3826</td>\n",
       "      <td>4884</td>\n",
       "      <td>3115</td>\n",
       "      <td>2093</td>\n",
       "      <td>896</td>\n",
       "    </tr>\n",
       "    <tr>\n",
       "      <th>Premium</th>\n",
       "      <td>1603</td>\n",
       "      <td>2337</td>\n",
       "      <td>2331</td>\n",
       "      <td>2924</td>\n",
       "      <td>2360</td>\n",
       "      <td>1428</td>\n",
       "      <td>808</td>\n",
       "    </tr>\n",
       "    <tr>\n",
       "      <th>Very Good</th>\n",
       "      <td>1513</td>\n",
       "      <td>2400</td>\n",
       "      <td>2164</td>\n",
       "      <td>2299</td>\n",
       "      <td>1824</td>\n",
       "      <td>1204</td>\n",
       "      <td>678</td>\n",
       "    </tr>\n",
       "  </tbody>\n",
       "</table>\n",
       "</div>"
      ],
      "text/plain": [
       "color         D     E     F     G     H     I    J\n",
       "cut                                               \n",
       "Fair        163   224   312   314   303   175  119\n",
       "Good        662   933   909   871   702   522  307\n",
       "Ideal      2834  3903  3826  4884  3115  2093  896\n",
       "Premium    1603  2337  2331  2924  2360  1428  808\n",
       "Very Good  1513  2400  2164  2299  1824  1204  678"
      ]
     },
     "execution_count": 51,
     "metadata": {},
     "output_type": "execute_result"
    }
   ],
   "source": [
    "pd.crosstab(diamonds['cut'], diamonds['color'])"
   ]
  },
  {
   "cell_type": "markdown",
   "metadata": {
    "id": "pb112VmqswwT"
   },
   "source": [
    "The \"cuts\" are not in the right order! They're actually in alphabetical order. We can fix this by telling pandas that there really is an important ordering here."
   ]
  },
  {
   "cell_type": "code",
   "execution_count": null,
   "metadata": {
    "id": "TxCu7kllswwT",
    "outputId": "75b904ab-4d30-46f9-ba79-125e2c4872af"
   },
   "outputs": [
    {
     "data": {
      "text/html": [
       "<div>\n",
       "<style scoped>\n",
       "    .dataframe tbody tr th:only-of-type {\n",
       "        vertical-align: middle;\n",
       "    }\n",
       "\n",
       "    .dataframe tbody tr th {\n",
       "        vertical-align: top;\n",
       "    }\n",
       "\n",
       "    .dataframe thead th {\n",
       "        text-align: right;\n",
       "    }\n",
       "</style>\n",
       "<table border=\"1\" class=\"dataframe\">\n",
       "  <thead>\n",
       "    <tr style=\"text-align: right;\">\n",
       "      <th>color</th>\n",
       "      <th>D</th>\n",
       "      <th>E</th>\n",
       "      <th>F</th>\n",
       "      <th>G</th>\n",
       "      <th>H</th>\n",
       "      <th>I</th>\n",
       "      <th>J</th>\n",
       "    </tr>\n",
       "    <tr>\n",
       "      <th>cut</th>\n",
       "      <th></th>\n",
       "      <th></th>\n",
       "      <th></th>\n",
       "      <th></th>\n",
       "      <th></th>\n",
       "      <th></th>\n",
       "      <th></th>\n",
       "    </tr>\n",
       "  </thead>\n",
       "  <tbody>\n",
       "    <tr>\n",
       "      <th>Fair</th>\n",
       "      <td>163</td>\n",
       "      <td>224</td>\n",
       "      <td>312</td>\n",
       "      <td>314</td>\n",
       "      <td>303</td>\n",
       "      <td>175</td>\n",
       "      <td>119</td>\n",
       "    </tr>\n",
       "    <tr>\n",
       "      <th>Good</th>\n",
       "      <td>662</td>\n",
       "      <td>933</td>\n",
       "      <td>909</td>\n",
       "      <td>871</td>\n",
       "      <td>702</td>\n",
       "      <td>522</td>\n",
       "      <td>307</td>\n",
       "    </tr>\n",
       "    <tr>\n",
       "      <th>Very Good</th>\n",
       "      <td>1513</td>\n",
       "      <td>2400</td>\n",
       "      <td>2164</td>\n",
       "      <td>2299</td>\n",
       "      <td>1824</td>\n",
       "      <td>1204</td>\n",
       "      <td>678</td>\n",
       "    </tr>\n",
       "    <tr>\n",
       "      <th>Premium</th>\n",
       "      <td>1603</td>\n",
       "      <td>2337</td>\n",
       "      <td>2331</td>\n",
       "      <td>2924</td>\n",
       "      <td>2360</td>\n",
       "      <td>1428</td>\n",
       "      <td>808</td>\n",
       "    </tr>\n",
       "    <tr>\n",
       "      <th>Ideal</th>\n",
       "      <td>2834</td>\n",
       "      <td>3903</td>\n",
       "      <td>3826</td>\n",
       "      <td>4884</td>\n",
       "      <td>3115</td>\n",
       "      <td>2093</td>\n",
       "      <td>896</td>\n",
       "    </tr>\n",
       "  </tbody>\n",
       "</table>\n",
       "</div>"
      ],
      "text/plain": [
       "color         D     E     F     G     H     I    J\n",
       "cut                                               \n",
       "Fair        163   224   312   314   303   175  119\n",
       "Good        662   933   909   871   702   522  307\n",
       "Very Good  1513  2400  2164  2299  1824  1204  678\n",
       "Premium    1603  2337  2331  2924  2360  1428  808\n",
       "Ideal      2834  3903  3826  4884  3115  2093  896"
      ]
     },
     "execution_count": 52,
     "metadata": {},
     "output_type": "execute_result"
    }
   ],
   "source": [
    "diamonds['cut'] = pd.Categorical(diamonds['cut'], categories=['Fair', 'Good', 'Very Good', 'Premium', 'Ideal'])\n",
    "pd.crosstab(diamonds['cut'], diamonds['color'])"
   ]
  },
  {
   "cell_type": "markdown",
   "metadata": {
    "id": "-wg2IumDswwT"
   },
   "source": [
    "### Categorizing with `.map()`"
   ]
  },
  {
   "cell_type": "code",
   "execution_count": null,
   "metadata": {
    "id": "OMt3SaHNswwU",
    "outputId": "d12b7ec2-a32b-4137-9c52-4431ea5c4fd1"
   },
   "outputs": [
    {
     "data": {
      "text/html": [
       "<div>\n",
       "<style scoped>\n",
       "    .dataframe tbody tr th:only-of-type {\n",
       "        vertical-align: middle;\n",
       "    }\n",
       "\n",
       "    .dataframe tbody tr th {\n",
       "        vertical-align: top;\n",
       "    }\n",
       "\n",
       "    .dataframe thead th {\n",
       "        text-align: right;\n",
       "    }\n",
       "</style>\n",
       "<table border=\"1\" class=\"dataframe\">\n",
       "  <thead>\n",
       "    <tr style=\"text-align: right;\">\n",
       "      <th></th>\n",
       "      <th>mpg</th>\n",
       "      <th>cyl</th>\n",
       "      <th>disp</th>\n",
       "      <th>hp</th>\n",
       "      <th>drat</th>\n",
       "      <th>wt</th>\n",
       "      <th>qsec</th>\n",
       "      <th>vs</th>\n",
       "      <th>am</th>\n",
       "      <th>gear</th>\n",
       "      <th>carb</th>\n",
       "    </tr>\n",
       "  </thead>\n",
       "  <tbody>\n",
       "    <tr>\n",
       "      <th>0</th>\n",
       "      <td>21.0</td>\n",
       "      <td>6</td>\n",
       "      <td>160.0</td>\n",
       "      <td>110</td>\n",
       "      <td>3.90</td>\n",
       "      <td>2.620</td>\n",
       "      <td>16.46</td>\n",
       "      <td>0</td>\n",
       "      <td>1</td>\n",
       "      <td>4</td>\n",
       "      <td>4</td>\n",
       "    </tr>\n",
       "    <tr>\n",
       "      <th>1</th>\n",
       "      <td>21.0</td>\n",
       "      <td>6</td>\n",
       "      <td>160.0</td>\n",
       "      <td>110</td>\n",
       "      <td>3.90</td>\n",
       "      <td>2.875</td>\n",
       "      <td>17.02</td>\n",
       "      <td>0</td>\n",
       "      <td>1</td>\n",
       "      <td>4</td>\n",
       "      <td>4</td>\n",
       "    </tr>\n",
       "    <tr>\n",
       "      <th>2</th>\n",
       "      <td>22.8</td>\n",
       "      <td>4</td>\n",
       "      <td>108.0</td>\n",
       "      <td>93</td>\n",
       "      <td>3.85</td>\n",
       "      <td>2.320</td>\n",
       "      <td>18.61</td>\n",
       "      <td>1</td>\n",
       "      <td>1</td>\n",
       "      <td>4</td>\n",
       "      <td>1</td>\n",
       "    </tr>\n",
       "    <tr>\n",
       "      <th>3</th>\n",
       "      <td>21.4</td>\n",
       "      <td>6</td>\n",
       "      <td>258.0</td>\n",
       "      <td>110</td>\n",
       "      <td>3.08</td>\n",
       "      <td>3.215</td>\n",
       "      <td>19.44</td>\n",
       "      <td>1</td>\n",
       "      <td>0</td>\n",
       "      <td>3</td>\n",
       "      <td>1</td>\n",
       "    </tr>\n",
       "    <tr>\n",
       "      <th>4</th>\n",
       "      <td>18.7</td>\n",
       "      <td>8</td>\n",
       "      <td>360.0</td>\n",
       "      <td>175</td>\n",
       "      <td>3.15</td>\n",
       "      <td>3.440</td>\n",
       "      <td>17.02</td>\n",
       "      <td>0</td>\n",
       "      <td>0</td>\n",
       "      <td>3</td>\n",
       "      <td>2</td>\n",
       "    </tr>\n",
       "  </tbody>\n",
       "</table>\n",
       "</div>"
      ],
      "text/plain": [
       "    mpg  cyl   disp   hp  drat     wt   qsec  vs  am  gear  carb\n",
       "0  21.0    6  160.0  110  3.90  2.620  16.46   0   1     4     4\n",
       "1  21.0    6  160.0  110  3.90  2.875  17.02   0   1     4     4\n",
       "2  22.8    4  108.0   93  3.85  2.320  18.61   1   1     4     1\n",
       "3  21.4    6  258.0  110  3.08  3.215  19.44   1   0     3     1\n",
       "4  18.7    8  360.0  175  3.15  3.440  17.02   0   0     3     2"
      ]
     },
     "execution_count": 56,
     "metadata": {},
     "output_type": "execute_result"
    }
   ],
   "source": [
    "cars = pd.read_csv('datasets/cars.csv')\n",
    "cars.head()"
   ]
  },
  {
   "cell_type": "code",
   "execution_count": null,
   "metadata": {
    "id": "GtFZqF5zswwU",
    "outputId": "223d94a6-7527-468e-b6c9-9bfb0739b4d4"
   },
   "outputs": [
    {
     "data": {
      "text/html": [
       "<div>\n",
       "<style scoped>\n",
       "    .dataframe tbody tr th:only-of-type {\n",
       "        vertical-align: middle;\n",
       "    }\n",
       "\n",
       "    .dataframe tbody tr th {\n",
       "        vertical-align: top;\n",
       "    }\n",
       "\n",
       "    .dataframe thead th {\n",
       "        text-align: right;\n",
       "    }\n",
       "</style>\n",
       "<table border=\"1\" class=\"dataframe\">\n",
       "  <thead>\n",
       "    <tr style=\"text-align: right;\">\n",
       "      <th></th>\n",
       "      <th>mpg</th>\n",
       "      <th>cyl</th>\n",
       "      <th>disp</th>\n",
       "      <th>hp</th>\n",
       "      <th>drat</th>\n",
       "      <th>wt</th>\n",
       "      <th>qsec</th>\n",
       "      <th>vs</th>\n",
       "      <th>am</th>\n",
       "      <th>gear</th>\n",
       "      <th>carb</th>\n",
       "    </tr>\n",
       "  </thead>\n",
       "  <tbody>\n",
       "    <tr>\n",
       "      <th>27</th>\n",
       "      <td>30.4</td>\n",
       "      <td>4</td>\n",
       "      <td>95.1</td>\n",
       "      <td>113</td>\n",
       "      <td>3.77</td>\n",
       "      <td>1.513</td>\n",
       "      <td>16.9</td>\n",
       "      <td>1</td>\n",
       "      <td>1</td>\n",
       "      <td>5</td>\n",
       "      <td>2</td>\n",
       "    </tr>\n",
       "    <tr>\n",
       "      <th>28</th>\n",
       "      <td>15.8</td>\n",
       "      <td>8</td>\n",
       "      <td>351.0</td>\n",
       "      <td>264</td>\n",
       "      <td>4.22</td>\n",
       "      <td>3.170</td>\n",
       "      <td>14.5</td>\n",
       "      <td>0</td>\n",
       "      <td>1</td>\n",
       "      <td>5</td>\n",
       "      <td>4</td>\n",
       "    </tr>\n",
       "    <tr>\n",
       "      <th>29</th>\n",
       "      <td>19.7</td>\n",
       "      <td>6</td>\n",
       "      <td>145.0</td>\n",
       "      <td>175</td>\n",
       "      <td>3.62</td>\n",
       "      <td>2.770</td>\n",
       "      <td>15.5</td>\n",
       "      <td>0</td>\n",
       "      <td>1</td>\n",
       "      <td>5</td>\n",
       "      <td>6</td>\n",
       "    </tr>\n",
       "    <tr>\n",
       "      <th>30</th>\n",
       "      <td>15.0</td>\n",
       "      <td>8</td>\n",
       "      <td>301.0</td>\n",
       "      <td>335</td>\n",
       "      <td>3.54</td>\n",
       "      <td>3.570</td>\n",
       "      <td>14.6</td>\n",
       "      <td>0</td>\n",
       "      <td>1</td>\n",
       "      <td>5</td>\n",
       "      <td>8</td>\n",
       "    </tr>\n",
       "    <tr>\n",
       "      <th>31</th>\n",
       "      <td>21.4</td>\n",
       "      <td>4</td>\n",
       "      <td>121.0</td>\n",
       "      <td>109</td>\n",
       "      <td>4.11</td>\n",
       "      <td>2.780</td>\n",
       "      <td>18.6</td>\n",
       "      <td>1</td>\n",
       "      <td>1</td>\n",
       "      <td>4</td>\n",
       "      <td>2</td>\n",
       "    </tr>\n",
       "  </tbody>\n",
       "</table>\n",
       "</div>"
      ],
      "text/plain": [
       "     mpg  cyl   disp   hp  drat     wt  qsec  vs  am  gear  carb\n",
       "27  30.4    4   95.1  113  3.77  1.513  16.9   1   1     5     2\n",
       "28  15.8    8  351.0  264  4.22  3.170  14.5   0   1     5     4\n",
       "29  19.7    6  145.0  175  3.62  2.770  15.5   0   1     5     6\n",
       "30  15.0    8  301.0  335  3.54  3.570  14.6   0   1     5     8\n",
       "31  21.4    4  121.0  109  4.11  2.780  18.6   1   1     4     2"
      ]
     },
     "execution_count": 57,
     "metadata": {},
     "output_type": "execute_result"
    }
   ],
   "source": [
    "cars.tail()"
   ]
  },
  {
   "cell_type": "code",
   "execution_count": null,
   "metadata": {
    "id": "lplRJwJ7swwU",
    "outputId": "bf15b69e-7af9-46ee-bed8-92a5b53746f3"
   },
   "outputs": [
    {
     "data": {
      "text/plain": [
       "Eight    14\n",
       "Four     11\n",
       "Six       7\n",
       "Name: cyl_word, dtype: int64"
      ]
     },
     "execution_count": 6,
     "metadata": {},
     "output_type": "execute_result"
    }
   ],
   "source": [
    "cars['cyl_word'] = cars['cyl'].map({4: 'Four', 6: 'Six', 8: 'Eight'})\n",
    "cars['cyl_word'].value_counts()"
   ]
  },
  {
   "cell_type": "code",
   "execution_count": null,
   "metadata": {
    "id": "LgRvDqAWswwU",
    "outputId": "7c03583f-9945-4a0e-b930-73517be53c51"
   },
   "outputs": [
    {
     "data": {
      "text/plain": [
       "Wasteful     18\n",
       "Efficient    14\n",
       "Name: fuel_economy, dtype: int64"
      ]
     },
     "execution_count": 58,
     "metadata": {},
     "output_type": "execute_result"
    }
   ],
   "source": [
    "def is_efficient(x):\n",
    "    if x > 20:\n",
    "        return \"Efficient\"\n",
    "    else:\n",
    "        return \"Wasteful\"\n",
    "\n",
    "cars['fuel_economy'] = cars['mpg'].map(is_efficient)\n",
    "cars['fuel_economy'].value_counts()"
   ]
  },
  {
   "cell_type": "code",
   "execution_count": null,
   "metadata": {
    "id": "m9pyI_V7swwU",
    "outputId": "75e805f4-c25d-42b3-ba8f-bea8481a700d"
   },
   "outputs": [
    {
     "data": {
      "text/html": [
       "<div>\n",
       "<style scoped>\n",
       "    .dataframe tbody tr th:only-of-type {\n",
       "        vertical-align: middle;\n",
       "    }\n",
       "\n",
       "    .dataframe tbody tr th {\n",
       "        vertical-align: top;\n",
       "    }\n",
       "\n",
       "    .dataframe thead th {\n",
       "        text-align: right;\n",
       "    }\n",
       "</style>\n",
       "<table border=\"1\" class=\"dataframe\">\n",
       "  <thead>\n",
       "    <tr style=\"text-align: right;\">\n",
       "      <th></th>\n",
       "      <th>mpg</th>\n",
       "      <th>cyl</th>\n",
       "      <th>disp</th>\n",
       "      <th>hp</th>\n",
       "      <th>drat</th>\n",
       "      <th>wt</th>\n",
       "      <th>qsec</th>\n",
       "      <th>vs</th>\n",
       "      <th>am</th>\n",
       "      <th>gear</th>\n",
       "      <th>carb</th>\n",
       "      <th>fuel_economy</th>\n",
       "    </tr>\n",
       "  </thead>\n",
       "  <tbody>\n",
       "    <tr>\n",
       "      <th>0</th>\n",
       "      <td>21.0</td>\n",
       "      <td>6</td>\n",
       "      <td>160.0</td>\n",
       "      <td>110</td>\n",
       "      <td>3.90</td>\n",
       "      <td>2.620</td>\n",
       "      <td>16.46</td>\n",
       "      <td>0</td>\n",
       "      <td>1</td>\n",
       "      <td>4</td>\n",
       "      <td>4</td>\n",
       "      <td>Efficient</td>\n",
       "    </tr>\n",
       "    <tr>\n",
       "      <th>1</th>\n",
       "      <td>21.0</td>\n",
       "      <td>6</td>\n",
       "      <td>160.0</td>\n",
       "      <td>110</td>\n",
       "      <td>3.90</td>\n",
       "      <td>2.875</td>\n",
       "      <td>17.02</td>\n",
       "      <td>0</td>\n",
       "      <td>1</td>\n",
       "      <td>4</td>\n",
       "      <td>4</td>\n",
       "      <td>Efficient</td>\n",
       "    </tr>\n",
       "    <tr>\n",
       "      <th>2</th>\n",
       "      <td>22.8</td>\n",
       "      <td>4</td>\n",
       "      <td>108.0</td>\n",
       "      <td>93</td>\n",
       "      <td>3.85</td>\n",
       "      <td>2.320</td>\n",
       "      <td>18.61</td>\n",
       "      <td>1</td>\n",
       "      <td>1</td>\n",
       "      <td>4</td>\n",
       "      <td>1</td>\n",
       "      <td>Efficient</td>\n",
       "    </tr>\n",
       "    <tr>\n",
       "      <th>3</th>\n",
       "      <td>21.4</td>\n",
       "      <td>6</td>\n",
       "      <td>258.0</td>\n",
       "      <td>110</td>\n",
       "      <td>3.08</td>\n",
       "      <td>3.215</td>\n",
       "      <td>19.44</td>\n",
       "      <td>1</td>\n",
       "      <td>0</td>\n",
       "      <td>3</td>\n",
       "      <td>1</td>\n",
       "      <td>Efficient</td>\n",
       "    </tr>\n",
       "    <tr>\n",
       "      <th>4</th>\n",
       "      <td>18.7</td>\n",
       "      <td>8</td>\n",
       "      <td>360.0</td>\n",
       "      <td>175</td>\n",
       "      <td>3.15</td>\n",
       "      <td>3.440</td>\n",
       "      <td>17.02</td>\n",
       "      <td>0</td>\n",
       "      <td>0</td>\n",
       "      <td>3</td>\n",
       "      <td>2</td>\n",
       "      <td>Wasteful</td>\n",
       "    </tr>\n",
       "  </tbody>\n",
       "</table>\n",
       "</div>"
      ],
      "text/plain": [
       "    mpg  cyl   disp   hp  drat     wt   qsec  vs  am  gear  carb fuel_economy\n",
       "0  21.0    6  160.0  110  3.90  2.620  16.46   0   1     4     4    Efficient\n",
       "1  21.0    6  160.0  110  3.90  2.875  17.02   0   1     4     4    Efficient\n",
       "2  22.8    4  108.0   93  3.85  2.320  18.61   1   1     4     1    Efficient\n",
       "3  21.4    6  258.0  110  3.08  3.215  19.44   1   0     3     1    Efficient\n",
       "4  18.7    8  360.0  175  3.15  3.440  17.02   0   0     3     2     Wasteful"
      ]
     },
     "execution_count": 59,
     "metadata": {},
     "output_type": "execute_result"
    }
   ],
   "source": [
    "cars.head()"
   ]
  },
  {
   "cell_type": "markdown",
   "metadata": {
    "id": "6-7aH4SXswwU"
   },
   "source": [
    "### Advanced Data Manipulation with `.apply()`\n",
    "The `.apply()` method is very similar to `.map()`, except more advanced. You can apply a function along any axis of a `DataFrame`. `.apply()` is our \"Swiss army knife\" for data manipulation - if something can't be solved with ordinary means, it might be time for a `.apply()`."
   ]
  },
  {
   "cell_type": "code",
   "execution_count": null,
   "metadata": {
    "id": "RFd1-wNTswwU",
    "outputId": "55060990-335b-48a2-f42e-2874cb80d97b"
   },
   "outputs": [
    {
     "data": {
      "text/plain": [
       "0     8\n",
       "1     4\n",
       "2     5\n",
       "3     L\n",
       "4     2\n",
       "5    12\n",
       "6    16\n",
       "7     8\n",
       "8    XL\n",
       "dtype: object"
      ]
     },
     "execution_count": 61,
     "metadata": {},
     "output_type": "execute_result"
    }
   ],
   "source": [
    "sizes = pd.Series([8, 4, 5, 'L', 2, 12, 16, 8, 'XL'])\n",
    "sizes"
   ]
  },
  {
   "cell_type": "code",
   "execution_count": null,
   "metadata": {
    "id": "7nEYg3ccswwU"
   },
   "outputs": [],
   "source": [
    "def to_num(x):\n",
    "    try:\n",
    "        out = float(x)\n",
    "    except:\n",
    "        out = np.nan\n",
    "    return out"
   ]
  },
  {
   "cell_type": "code",
   "execution_count": null,
   "metadata": {
    "id": "A3RMCm0zswwV",
    "outputId": "c578bd5c-5d16-4b93-bc4a-f0596005374b"
   },
   "outputs": [
    {
     "data": {
      "text/plain": [
       "0     8.0\n",
       "1     4.0\n",
       "2     5.0\n",
       "3     NaN\n",
       "4     2.0\n",
       "5    12.0\n",
       "6    16.0\n",
       "7     8.0\n",
       "8     NaN\n",
       "dtype: float64"
      ]
     },
     "execution_count": 63,
     "metadata": {},
     "output_type": "execute_result"
    }
   ],
   "source": [
    "sizes.apply(to_num)"
   ]
  },
  {
   "cell_type": "code",
   "execution_count": null,
   "metadata": {
    "id": "vF5cC-FJswwV",
    "outputId": "fd6a8435-e713-403b-b206-a96113cf0372"
   },
   "outputs": [
    {
     "data": {
      "text/html": [
       "<div>\n",
       "<style scoped>\n",
       "    .dataframe tbody tr th:only-of-type {\n",
       "        vertical-align: middle;\n",
       "    }\n",
       "\n",
       "    .dataframe tbody tr th {\n",
       "        vertical-align: top;\n",
       "    }\n",
       "\n",
       "    .dataframe thead th {\n",
       "        text-align: right;\n",
       "    }\n",
       "</style>\n",
       "<table border=\"1\" class=\"dataframe\">\n",
       "  <thead>\n",
       "    <tr style=\"text-align: right;\">\n",
       "      <th></th>\n",
       "      <th>mpg</th>\n",
       "      <th>cyl</th>\n",
       "      <th>disp</th>\n",
       "      <th>hp</th>\n",
       "      <th>drat</th>\n",
       "      <th>wt</th>\n",
       "      <th>qsec</th>\n",
       "      <th>vs</th>\n",
       "      <th>am</th>\n",
       "      <th>gear</th>\n",
       "      <th>carb</th>\n",
       "      <th>fuel_economy</th>\n",
       "    </tr>\n",
       "  </thead>\n",
       "  <tbody>\n",
       "    <tr>\n",
       "      <th>0</th>\n",
       "      <td>21.0</td>\n",
       "      <td>6</td>\n",
       "      <td>160.0</td>\n",
       "      <td>110</td>\n",
       "      <td>3.90</td>\n",
       "      <td>2.620</td>\n",
       "      <td>16.46</td>\n",
       "      <td>0</td>\n",
       "      <td>1</td>\n",
       "      <td>4</td>\n",
       "      <td>4</td>\n",
       "      <td>Efficient</td>\n",
       "    </tr>\n",
       "    <tr>\n",
       "      <th>1</th>\n",
       "      <td>21.0</td>\n",
       "      <td>6</td>\n",
       "      <td>160.0</td>\n",
       "      <td>110</td>\n",
       "      <td>3.90</td>\n",
       "      <td>2.875</td>\n",
       "      <td>17.02</td>\n",
       "      <td>0</td>\n",
       "      <td>1</td>\n",
       "      <td>4</td>\n",
       "      <td>4</td>\n",
       "      <td>Efficient</td>\n",
       "    </tr>\n",
       "    <tr>\n",
       "      <th>2</th>\n",
       "      <td>22.8</td>\n",
       "      <td>4</td>\n",
       "      <td>108.0</td>\n",
       "      <td>93</td>\n",
       "      <td>3.85</td>\n",
       "      <td>2.320</td>\n",
       "      <td>18.61</td>\n",
       "      <td>1</td>\n",
       "      <td>1</td>\n",
       "      <td>4</td>\n",
       "      <td>1</td>\n",
       "      <td>Efficient</td>\n",
       "    </tr>\n",
       "    <tr>\n",
       "      <th>3</th>\n",
       "      <td>21.4</td>\n",
       "      <td>6</td>\n",
       "      <td>258.0</td>\n",
       "      <td>110</td>\n",
       "      <td>3.08</td>\n",
       "      <td>3.215</td>\n",
       "      <td>19.44</td>\n",
       "      <td>1</td>\n",
       "      <td>0</td>\n",
       "      <td>3</td>\n",
       "      <td>1</td>\n",
       "      <td>Efficient</td>\n",
       "    </tr>\n",
       "    <tr>\n",
       "      <th>4</th>\n",
       "      <td>18.7</td>\n",
       "      <td>8</td>\n",
       "      <td>360.0</td>\n",
       "      <td>175</td>\n",
       "      <td>3.15</td>\n",
       "      <td>3.440</td>\n",
       "      <td>17.02</td>\n",
       "      <td>0</td>\n",
       "      <td>0</td>\n",
       "      <td>3</td>\n",
       "      <td>2</td>\n",
       "      <td>Wasteful</td>\n",
       "    </tr>\n",
       "  </tbody>\n",
       "</table>\n",
       "</div>"
      ],
      "text/plain": [
       "    mpg  cyl   disp   hp  drat     wt   qsec  vs  am  gear  carb fuel_economy\n",
       "0  21.0    6  160.0  110  3.90  2.620  16.46   0   1     4     4    Efficient\n",
       "1  21.0    6  160.0  110  3.90  2.875  17.02   0   1     4     4    Efficient\n",
       "2  22.8    4  108.0   93  3.85  2.320  18.61   1   1     4     1    Efficient\n",
       "3  21.4    6  258.0  110  3.08  3.215  19.44   1   0     3     1    Efficient\n",
       "4  18.7    8  360.0  175  3.15  3.440  17.02   0   0     3     2     Wasteful"
      ]
     },
     "execution_count": 64,
     "metadata": {},
     "output_type": "execute_result"
    }
   ],
   "source": [
    "cars.head()"
   ]
  },
  {
   "cell_type": "code",
   "execution_count": null,
   "metadata": {
    "id": "jPAUOhBIswwV"
   },
   "outputs": [],
   "source": [
    "def describe_car(row):\n",
    "    efficiency = row['fuel_economy'].lower()\n",
    "    #cyl = row['cyl'].lower()   #editing row ['cyl_word'] to cyl\n",
    "    auto = 'automatic' if row['am'] == 1 else 'manual'\n",
    "    print(f\"This cyl cylinder car has {auto} transmission and a(n) {efficiency} fuel economy.\")"
   ]
  },
  {
   "cell_type": "code",
   "execution_count": null,
   "metadata": {
    "id": "A4Qxu9rPswwV",
    "outputId": "5ab818d2-49e9-4f39-af55-613c296e4971"
   },
   "outputs": [
    {
     "name": "stdout",
     "output_type": "stream",
     "text": [
      "This cyl cylinder car has automatic transmission and a(n) efficient fuel economy.\n",
      "This cyl cylinder car has automatic transmission and a(n) efficient fuel economy.\n",
      "This cyl cylinder car has automatic transmission and a(n) efficient fuel economy.\n",
      "This cyl cylinder car has manual transmission and a(n) efficient fuel economy.\n",
      "This cyl cylinder car has manual transmission and a(n) wasteful fuel economy.\n"
     ]
    },
    {
     "data": {
      "text/plain": [
       "0    None\n",
       "1    None\n",
       "2    None\n",
       "3    None\n",
       "4    None\n",
       "dtype: object"
      ]
     },
     "execution_count": 78,
     "metadata": {},
     "output_type": "execute_result"
    }
   ],
   "source": [
    "cars.head().apply(describe_car, axis=1)"
   ]
  },
  {
   "cell_type": "markdown",
   "metadata": {
    "id": "tiNzrfx1swwV"
   },
   "source": [
    "BONUS QUESTION: Why are there 5 \"None\" valus in the above output?"
   ]
  }
 ],
 "metadata": {
  "anaconda-cloud": {},
  "colab": {
   "provenance": []
  },
  "kernelspec": {
   "display_name": "Python 3 (ipykernel)",
   "language": "python",
   "name": "python3"
  },
  "language_info": {
   "codemirror_mode": {
    "name": "ipython",
    "version": 3
   },
   "file_extension": ".py",
   "mimetype": "text/x-python",
   "name": "python",
   "nbconvert_exporter": "python",
   "pygments_lexer": "ipython3",
   "version": "3.12.7"
  },
  "nbpresent": {
   "slides": {
    "5d802dcc-eba2-49cc-b8a7-4ba12c601026": {
     "id": "5d802dcc-eba2-49cc-b8a7-4ba12c601026",
     "prev": null,
     "regions": {
      "19d2ea1f-046e-4733-8563-5001186e649c": {
       "attrs": {
        "height": 1,
        "width": 1,
        "x": 0,
        "y": 0
       },
       "content": {
        "cell": "3433c1f4-195d-4a6b-8ad6-961d54c4c96d",
        "part": "source"
       },
       "id": "19d2ea1f-046e-4733-8563-5001186e649c"
      }
     },
     "theme": null
    },
    "b84d227e-3775-4693-a414-689ea9c77c6f": {
     "id": "b84d227e-3775-4693-a414-689ea9c77c6f",
     "prev": "c9e607c1-dc97-4a52-a24b-c5fa7fec789f",
     "regions": {
      "f05b4e9e-0831-49cc-8a61-40c615d0aed6": {
       "attrs": {
        "height": 1,
        "width": 1,
        "x": 0,
        "y": 0
       },
       "content": {
        "cell": "e9917673-4eb8-403d-95ba-3068360f3dcd",
        "part": "source"
       },
       "id": "f05b4e9e-0831-49cc-8a61-40c615d0aed6"
      }
     }
    },
    "c9e607c1-dc97-4a52-a24b-c5fa7fec789f": {
     "id": "c9e607c1-dc97-4a52-a24b-c5fa7fec789f",
     "prev": "5d802dcc-eba2-49cc-b8a7-4ba12c601026",
     "regions": {
      "be473921-0ea3-42d1-9fd2-6b9257a8966d": {
       "attrs": {
        "height": 1,
        "width": 1,
        "x": 0,
        "y": 0
       },
       "id": "be473921-0ea3-42d1-9fd2-6b9257a8966d"
      }
     }
    }
   },
   "themes": {
    "default": "5fe298e2-cc87-47e9-b12c-6f4471f17350",
    "theme": {
     "5fe298e2-cc87-47e9-b12c-6f4471f17350": {
      "id": "5fe298e2-cc87-47e9-b12c-6f4471f17350",
      "palette": {
       "19cc588f-0593-49c9-9f4b-e4d7cc113b1c": {
        "id": "19cc588f-0593-49c9-9f4b-e4d7cc113b1c",
        "rgb": [
         252,
         252,
         252
        ]
       },
       "31af15d2-7e15-44c5-ab5e-e04b16a89eff": {
        "id": "31af15d2-7e15-44c5-ab5e-e04b16a89eff",
        "rgb": [
         68,
         68,
         68
        ]
       },
       "50f92c45-a630-455b-aec3-788680ec7410": {
        "id": "50f92c45-a630-455b-aec3-788680ec7410",
        "rgb": [
         155,
         177,
         192
        ]
       },
       "c5cc3653-2ee1-402a-aba2-7caae1da4f6c": {
        "id": "c5cc3653-2ee1-402a-aba2-7caae1da4f6c",
        "rgb": [
         43,
         126,
         184
        ]
       },
       "efa7f048-9acb-414c-8b04-a26811511a21": {
        "id": "efa7f048-9acb-414c-8b04-a26811511a21",
        "rgb": [
         25.118061674008803,
         73.60176211453744,
         107.4819383259912
        ]
       }
      },
      "rules": {
       "blockquote": {
        "color": "50f92c45-a630-455b-aec3-788680ec7410"
       },
       "code": {
        "font-family": "Anonymous Pro"
       },
       "h1": {
        "color": "c5cc3653-2ee1-402a-aba2-7caae1da4f6c",
        "font-family": "Lato",
        "font-size": 8
       },
       "h2": {
        "color": "c5cc3653-2ee1-402a-aba2-7caae1da4f6c",
        "font-family": "Lato",
        "font-size": 6
       },
       "h3": {
        "color": "50f92c45-a630-455b-aec3-788680ec7410",
        "font-family": "Lato",
        "font-size": 5.5
       },
       "h4": {
        "color": "c5cc3653-2ee1-402a-aba2-7caae1da4f6c",
        "font-family": "Lato",
        "font-size": 5
       },
       "h5": {
        "font-family": "Lato"
       },
       "h6": {
        "font-family": "Lato"
       },
       "h7": {
        "font-family": "Lato"
       },
       "pre": {
        "font-family": "Anonymous Pro",
        "font-size": 4
       }
      },
      "text-base": {
       "font-family": "Merriweather",
       "font-size": 4
      }
     }
    }
   }
  }
 },
 "nbformat": 4,
 "nbformat_minor": 4
}
